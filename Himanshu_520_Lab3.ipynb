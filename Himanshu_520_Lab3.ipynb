{
 "cells": [
  {
   "cell_type": "code",
   "execution_count": 1,
   "metadata": {},
   "outputs": [],
   "source": [
    "hindi=\"सभी को नमस्कार, मेरा नाम हिमांशु गुलेच्छा है। मैं एयर शो के लिए नहीं जाऊँगा (मुझे नहीं पता कि विमान कैसे उड़ाया जाता है)।\"\n",
    "german=\"Hallo zusammen, mein Name ist Himanshu Gulechha.Ich werde nicht zur Flugshow gehen (ich weiß nicht, wie man ein Flugzeug fliegt).\""
   ]
  },
  {
   "cell_type": "code",
   "execution_count": 4,
   "metadata": {},
   "outputs": [
    {
     "data": {
      "text/plain": [
       "['Hallo',\n",
       " 'zusammen',\n",
       " ',',\n",
       " 'mein',\n",
       " 'Name',\n",
       " 'ist',\n",
       " 'Himanshu',\n",
       " 'Gulechha.Ich',\n",
       " 'werde',\n",
       " 'nicht',\n",
       " 'zur',\n",
       " 'Flugshow',\n",
       " 'gehen',\n",
       " '(',\n",
       " 'ich',\n",
       " 'weiß',\n",
       " 'nicht',\n",
       " ',',\n",
       " 'wie',\n",
       " 'man',\n",
       " 'ein',\n",
       " 'Flugzeug',\n",
       " 'fliegt',\n",
       " ')',\n",
       " '.']"
      ]
     },
     "execution_count": 4,
     "metadata": {},
     "output_type": "execute_result"
    }
   ],
   "source": [
    "from nltk.tokenize import word_tokenize\n",
    "g_tokens = word_tokenize(german, language='german')\n",
    "g_tokens"
   ]
  },
  {
   "cell_type": "code",
   "execution_count": 6,
   "metadata": {},
   "outputs": [
    {
     "data": {
      "text/plain": [
       "['सभी',\n",
       " 'को',\n",
       " 'नमस्कार',\n",
       " ',',\n",
       " 'मेरा',\n",
       " 'नाम',\n",
       " 'हिमांशु',\n",
       " 'गुलेच्छा',\n",
       " 'है',\n",
       " '।',\n",
       " 'मैं',\n",
       " 'एयर',\n",
       " 'शो',\n",
       " 'के',\n",
       " 'लिए',\n",
       " 'नहीं',\n",
       " 'जाऊँगा',\n",
       " '(',\n",
       " 'मुझे',\n",
       " 'नहीं',\n",
       " 'पता',\n",
       " 'कि',\n",
       " 'विमान',\n",
       " 'कैसे',\n",
       " 'उड़ाया',\n",
       " 'जाता',\n",
       " 'है',\n",
       " ')',\n",
       " '।']"
      ]
     },
     "execution_count": 6,
     "metadata": {},
     "output_type": "execute_result"
    }
   ],
   "source": [
    "from indicnlp.tokenize import indic_tokenize\n",
    "tokens = indic_tokenize.trivial_tokenize(hindi)\n",
    "tokens"
   ]
  },
  {
   "cell_type": "code",
   "execution_count": null,
   "metadata": {},
   "outputs": [],
   "source": []
  }
 ],
 "metadata": {
  "kernelspec": {
   "display_name": "Python 3",
   "language": "python",
   "name": "python3"
  },
  "language_info": {
   "codemirror_mode": {
    "name": "ipython",
    "version": 3
   },
   "file_extension": ".py",
   "mimetype": "text/x-python",
   "name": "python",
   "nbconvert_exporter": "python",
   "pygments_lexer": "ipython3",
   "version": "3.11.5"
  }
 },
 "nbformat": 4,
 "nbformat_minor": 2
}
