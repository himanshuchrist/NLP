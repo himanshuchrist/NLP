{
 "cells": [
  {
   "cell_type": "markdown",
   "id": "afebe3e4-12ca-4f61-a3ca-ce1403240cee",
   "metadata": {},
   "source": [
    "## Similarity Analysis"
   ]
  },
  {
   "cell_type": "markdown",
   "id": "089cf25a-f9d2-44d2-a181-6a884dd65a12",
   "metadata": {},
   "source": [
    "### Documents"
   ]
  },
  {
   "cell_type": "code",
   "execution_count": 10,
   "id": "2617b794-5e30-48f9-bdb4-af002242a0f5",
   "metadata": {},
   "outputs": [],
   "source": [
    "doc1='Hello, my name is Himanshu'\n",
    "doc2='Hi, my name is Himani'\n",
    "string=[doc1,doc2]"
   ]
  },
  {
   "cell_type": "markdown",
   "id": "3fed861d-52da-44ba-8562-46c6f2e471f0",
   "metadata": {},
   "source": [
    "### Preprocessing"
   ]
  },
  {
   "cell_type": "code",
   "execution_count": 11,
   "id": "35c6c4bb-eed8-4fd5-a1d0-76c28e1a481f",
   "metadata": {},
   "outputs": [
    {
     "name": "stdout",
     "output_type": "stream",
     "text": [
      "{',', 'name', 'Himanshu', 'Hello'}\n",
      "{',', 'name', 'Hi', 'Himani'}\n"
     ]
    }
   ],
   "source": [
    "from nltk.corpus import stopwords \n",
    "from nltk.tokenize import word_tokenize \n",
    "doc1=word_tokenize(doc1)\n",
    "doc2=word_tokenize(doc2)\n",
    "sw = stopwords.words('english') \n",
    "l1 =[];l2 =[]\n",
    "X_set = {w for w in doc1 if not w in sw}  \n",
    "Y_set = {w for w in doc2 if not w in sw}\n",
    "print(X_set)\n",
    "print(Y_set)"
   ]
  },
  {
   "cell_type": "markdown",
   "id": "6468e870-92e3-44fe-adce-07c7276e03ae",
   "metadata": {},
   "source": [
    "### Creating Matrix"
   ]
  },
  {
   "cell_type": "code",
   "execution_count": 12,
   "id": "199f344e-fd99-47f0-9660-fc5d031ad778",
   "metadata": {},
   "outputs": [
    {
     "name": "stdout",
     "output_type": "stream",
     "text": [
      "{'name', 'Hi', 'Hello', 'Himani', ',', 'Himanshu'}\n",
      "[1, 0, 1, 0, 1, 1]\n",
      "[1, 1, 0, 1, 1, 0]\n"
     ]
    }
   ],
   "source": [
    "rvector = X_set.union(Y_set)  \n",
    "for w in rvector: \n",
    "    if w in X_set: l1.append(1) # create a vector \n",
    "    else: l1.append(0) \n",
    "    if w in Y_set: l2.append(1) \n",
    "    else: l2.append(0) \n",
    "c = 0\n",
    "print(rvector)\n",
    "print(l1)\n",
    "print(l2)"
   ]
  },
  {
   "cell_type": "markdown",
   "id": "90651e5d-0d44-435e-92fd-4ec878ceedef",
   "metadata": {},
   "source": [
    "### Based on Cosine Similarity"
   ]
  },
  {
   "cell_type": "code",
   "execution_count": 14,
   "id": "e4bd5c6b-5ee3-418e-8473-2de57b77e504",
   "metadata": {},
   "outputs": [
    {
     "name": "stdout",
     "output_type": "stream",
     "text": [
      "0.5\n"
     ]
    }
   ],
   "source": [
    "import numpy as np\n",
    "A=np.array(l1)\n",
    "B=np.array(l2)\n",
    "dot = np.dot(A,B)\n",
    "norma = np.linalg.norm(A)\n",
    "normb = np.linalg.norm(B)\n",
    "cos = dot/(norma*normb)\n",
    "print(cos)"
   ]
  },
  {
   "cell_type": "markdown",
   "id": "a2f018ab-d654-44b7-8fe4-74075976f00b",
   "metadata": {},
   "source": [
    "### Based on Euclidean Distance"
   ]
  },
  {
   "cell_type": "code",
   "execution_count": 15,
   "id": "e3e5e72c-e202-4f22-b6dc-b5e123d56919",
   "metadata": {},
   "outputs": [
    {
     "name": "stdout",
     "output_type": "stream",
     "text": [
      "2.0\n"
     ]
    }
   ],
   "source": [
    "d = np.linalg.norm(A-B)\n",
    "print(d)"
   ]
  },
  {
   "cell_type": "markdown",
   "id": "59015096-98d7-4ef9-adce-2db9b3c7e860",
   "metadata": {},
   "source": [
    "## Sentiment Analysis"
   ]
  },
  {
   "cell_type": "markdown",
   "id": "718a5050-5b81-4a72-bda8-425f4bbcdc76",
   "metadata": {},
   "source": [
    "### Importing Data"
   ]
  },
  {
   "cell_type": "code",
   "execution_count": 16,
   "id": "0f999670-03e9-408b-a104-6840c256a639",
   "metadata": {},
   "outputs": [
    {
     "data": {
      "text/html": [
       "<div>\n",
       "<style scoped>\n",
       "    .dataframe tbody tr th:only-of-type {\n",
       "        vertical-align: middle;\n",
       "    }\n",
       "\n",
       "    .dataframe tbody tr th {\n",
       "        vertical-align: top;\n",
       "    }\n",
       "\n",
       "    .dataframe thead th {\n",
       "        text-align: right;\n",
       "    }\n",
       "</style>\n",
       "<table border=\"1\" class=\"dataframe\">\n",
       "  <thead>\n",
       "    <tr style=\"text-align: right;\">\n",
       "      <th></th>\n",
       "      <th>review</th>\n",
       "      <th>sentiment</th>\n",
       "    </tr>\n",
       "  </thead>\n",
       "  <tbody>\n",
       "    <tr>\n",
       "      <th>0</th>\n",
       "      <td>One of the other reviewers has mentioned that ...</td>\n",
       "      <td>positive</td>\n",
       "    </tr>\n",
       "    <tr>\n",
       "      <th>1</th>\n",
       "      <td>A wonderful little production. &lt;br /&gt;&lt;br /&gt;The...</td>\n",
       "      <td>positive</td>\n",
       "    </tr>\n",
       "    <tr>\n",
       "      <th>2</th>\n",
       "      <td>I thought this was a wonderful way to spend ti...</td>\n",
       "      <td>positive</td>\n",
       "    </tr>\n",
       "    <tr>\n",
       "      <th>3</th>\n",
       "      <td>Basically there's a family where a little boy ...</td>\n",
       "      <td>negative</td>\n",
       "    </tr>\n",
       "    <tr>\n",
       "      <th>4</th>\n",
       "      <td>Petter Mattei's \"Love in the Time of Money\" is...</td>\n",
       "      <td>positive</td>\n",
       "    </tr>\n",
       "  </tbody>\n",
       "</table>\n",
       "</div>"
      ],
      "text/plain": [
       "                                              review sentiment\n",
       "0  One of the other reviewers has mentioned that ...  positive\n",
       "1  A wonderful little production. <br /><br />The...  positive\n",
       "2  I thought this was a wonderful way to spend ti...  positive\n",
       "3  Basically there's a family where a little boy ...  negative\n",
       "4  Petter Mattei's \"Love in the Time of Money\" is...  positive"
      ]
     },
     "execution_count": 16,
     "metadata": {},
     "output_type": "execute_result"
    }
   ],
   "source": [
    "import pandas as pd\n",
    "data=pd.read_csv('/Users/himanshugulechha/Desktop/MSc AI&ML/Sem3/NLP/IMDB Dataset.csv')\n",
    "data.head()"
   ]
  },
  {
   "cell_type": "markdown",
   "id": "1e7371ec-8e66-4844-83a4-2aabc031e541",
   "metadata": {},
   "source": [
    "### Preprocessing"
   ]
  },
  {
   "cell_type": "code",
   "execution_count": 17,
   "id": "9a40f848-012f-4d25-a1c9-273da3b18d24",
   "metadata": {},
   "outputs": [],
   "source": [
    "from nltk.corpus import stopwords \n",
    "data['review']=data['review'].str.lower()\n",
    "sw = stopwords.words('english')\n",
    "data['review']=data['review'].apply(lambda x: ' '.join([word for word in x.split() if word not in (sw)]))"
   ]
  },
  {
   "cell_type": "markdown",
   "id": "123191a9-63a9-4ea0-b59f-52d91b9b13d8",
   "metadata": {},
   "source": [
    "### Unigram Generation"
   ]
  },
  {
   "cell_type": "code",
   "execution_count": 18,
   "id": "74bb8365-e965-4476-a71e-4fdb787ca3b1",
   "metadata": {},
   "outputs": [
    {
     "name": "stderr",
     "output_type": "stream",
     "text": [
      "/opt/anaconda3/lib/python3.11/site-packages/sklearn/feature_extraction/text.py:528: UserWarning: The parameter 'token_pattern' will not be used since 'tokenizer' is not None'\n",
      "  warnings.warn(\n"
     ]
    }
   ],
   "source": [
    "from sklearn.feature_extraction.text import CountVectorizer\n",
    "from nltk.tokenize import RegexpTokenizer\n",
    "token = RegexpTokenizer(r'[a-zA-Z0-9]+')\n",
    "cv = CountVectorizer(ngram_range = (1,1),tokenizer = token.tokenize)\n",
    "text_counts = cv.fit_transform(data['review'])"
   ]
  },
  {
   "cell_type": "markdown",
   "id": "0ff00df5-5cb4-40db-bbc7-e85085ae2bfb",
   "metadata": {},
   "source": [
    "### Splitting the dataset for train and test"
   ]
  },
  {
   "cell_type": "code",
   "execution_count": 22,
   "id": "f95709e0-82a7-4925-81e5-1a22f84936df",
   "metadata": {},
   "outputs": [],
   "source": [
    "from sklearn.model_selection import train_test_split\n",
    "X=text_counts\n",
    "y=data['sentiment']\n",
    "X_train, X_test, y_train, y_test = train_test_split(X, y, test_size=0.20,random_state=30)"
   ]
  },
  {
   "cell_type": "markdown",
   "id": "2b715382-66aa-475d-a0ea-69573920e292",
   "metadata": {},
   "source": [
    "### Fitting Multinomial Naive Bayes model "
   ]
  },
  {
   "cell_type": "code",
   "execution_count": 23,
   "id": "746184e1-6a9d-4350-bdfb-70b6e055f1fd",
   "metadata": {},
   "outputs": [
    {
     "name": "stdout",
     "output_type": "stream",
     "text": [
      "MultinominalNB model accuracy is 86.10%\n"
     ]
    }
   ],
   "source": [
    "from sklearn.naive_bayes import MultinomialNB\n",
    "from sklearn.metrics import accuracy_score, classification_report, confusion_matrix\n",
    "MNB = MultinomialNB()\n",
    "MNB.fit(X_train, y_train)\n",
    "\n",
    "predicted = MNB.predict(X_test)\n",
    "accuracy_score = accuracy_score(predicted, y_test)\n",
    "\n",
    "print('MultinominalNB model accuracy is',str('{:04.2f}'.format(accuracy_score*100))+'%')"
   ]
  },
  {
   "cell_type": "markdown",
   "id": "62e250a7-c8b9-45e7-9dfb-304422369d04",
   "metadata": {},
   "source": [
    "### Fitting RNN model"
   ]
  },
  {
   "cell_type": "code",
   "execution_count": 41,
   "id": "f313e283-6b16-4488-a1a2-653b43b0110a",
   "metadata": {},
   "outputs": [
    {
     "ename": "ModuleNotFoundError",
     "evalue": "No module named 'tensorflow.keras'",
     "output_type": "error",
     "traceback": [
      "\u001b[0;31m---------------------------------------------------------------------------\u001b[0m",
      "\u001b[0;31mModuleNotFoundError\u001b[0m                       Traceback (most recent call last)",
      "Cell \u001b[0;32mIn[41], line 1\u001b[0m\n\u001b[0;32m----> 1\u001b[0m \u001b[38;5;28;01mfrom\u001b[39;00m \u001b[38;5;21;01mtensorflow\u001b[39;00m\u001b[38;5;21;01m.\u001b[39;00m\u001b[38;5;21;01mkeras\u001b[39;00m\u001b[38;5;21;01m.\u001b[39;00m\u001b[38;5;21;01mlayers\u001b[39;00m \u001b[38;5;28;01mimport\u001b[39;00m SimpleRNN, Dense\n\u001b[1;32m      2\u001b[0m \u001b[38;5;28;01mfrom\u001b[39;00m \u001b[38;5;21;01mtensorflow\u001b[39;00m\u001b[38;5;21;01m.\u001b[39;00m\u001b[38;5;21;01mkeras\u001b[39;00m\u001b[38;5;21;01m.\u001b[39;00m\u001b[38;5;21;01mmodels\u001b[39;00m \u001b[38;5;28;01mimport\u001b[39;00m Sequential\n\u001b[1;32m      3\u001b[0m RNN_model\u001b[38;5;241m=\u001b[39mSequential()\n",
      "\u001b[0;31mModuleNotFoundError\u001b[0m: No module named 'tensorflow.keras'"
     ]
    }
   ],
   "source": [
    "from tensorflow.keras.layers import SimpleRNN, Dense\n",
    "from tensorflow.keras.models import Sequential\n",
    "RNN_model=Sequential()\n",
    "RNN_model.add(SimpleRNN(128, activation='tanh',return_sequences=False,input_size=(40000, 101248)))\n",
    "RNN_model.add(Dense(1, activation='sigmoid'))\n",
    "RNN_model.compile(loss=\"binary_crossentropy\", optimizer='adam', metrics=['accuracy'])\n",
    "RNN_model.fit(X_train,y_train,batch_size=64,epochs=5,verbose=1,validation_data=(X_test, y_test))"
   ]
  },
  {
   "cell_type": "code",
   "execution_count": 42,
   "id": "268fb6ed-7b58-480c-9964-6e3d5005236e",
   "metadata": {},
   "outputs": [
    {
     "ename": "ModuleNotFoundError",
     "evalue": "No module named 'tensorflow.keras'",
     "output_type": "error",
     "traceback": [
      "\u001b[0;31m---------------------------------------------------------------------------\u001b[0m",
      "\u001b[0;31mModuleNotFoundError\u001b[0m                       Traceback (most recent call last)",
      "Cell \u001b[0;32mIn[42], line 1\u001b[0m\n\u001b[0;32m----> 1\u001b[0m \u001b[38;5;28;01mfrom\u001b[39;00m \u001b[38;5;21;01mtensorflow\u001b[39;00m\u001b[38;5;21;01m.\u001b[39;00m\u001b[38;5;21;01mkeras\u001b[39;00m\u001b[38;5;21;01m.\u001b[39;00m\u001b[38;5;21;01mlayers\u001b[39;00m \u001b[38;5;28;01mimport\u001b[39;00m LSTM\n\u001b[1;32m      2\u001b[0m LSTM_model\u001b[38;5;241m=\u001b[39mSequential()\n\u001b[1;32m      3\u001b[0m LSTM_model\u001b[38;5;241m.\u001b[39madd(LSTM(\u001b[38;5;241m128\u001b[39m, activation\u001b[38;5;241m=\u001b[39m\u001b[38;5;124m'\u001b[39m\u001b[38;5;124mtanh\u001b[39m\u001b[38;5;124m'\u001b[39m,return_sequences\u001b[38;5;241m=\u001b[39m\u001b[38;5;28;01mFalse\u001b[39;00m,input_size\u001b[38;5;241m=\u001b[39m(\u001b[38;5;241m40000\u001b[39m, \u001b[38;5;241m101248\u001b[39m)))\n",
      "\u001b[0;31mModuleNotFoundError\u001b[0m: No module named 'tensorflow.keras'"
     ]
    }
   ],
   "source": [
    "from tensorflow.keras.layers import LSTM\n",
    "LSTM_model=Sequential()\n",
    "LSTM_model.add(LSTM(128, activation='tanh',return_sequences=False,input_size=(40000, 101248)))\n",
    "LSTM_model.add(Dense(1, activation='sigmoid'))\n",
    "LSTM_model.compile(loss=\"binary_crossentropy\", optimizer='adam', metrics=['accuracy'])\n",
    "LSTM_model.fit(X_train,y_train,batch_size=64,epochs=5,verbose=1,validation_data=(X_test, y_test))\n",
    "LSTM_model.compile(loss=\"binary_crossentropy\", optimizer='adam', metrics=['accuracy'])\n",
    "LSTM_model.fit(X_train,y_train,batch_size=64,epochs=5,verbose=1,validation_data=(X_test, y_test))"
   ]
  },
  {
   "cell_type": "code",
   "execution_count": null,
   "id": "0f578356-9254-47e3-bd18-0c8858aa89c1",
   "metadata": {},
   "outputs": [],
   "source": []
  }
 ],
 "metadata": {
  "kernelspec": {
   "display_name": "Python 3 (ipykernel)",
   "language": "python",
   "name": "python3"
  },
  "language_info": {
   "codemirror_mode": {
    "name": "ipython",
    "version": 3
   },
   "file_extension": ".py",
   "mimetype": "text/x-python",
   "name": "python",
   "nbconvert_exporter": "python",
   "pygments_lexer": "ipython3",
   "version": "3.11.7"
  }
 },
 "nbformat": 4,
 "nbformat_minor": 5
}
