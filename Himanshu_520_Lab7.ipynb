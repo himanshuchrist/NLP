{
  "cells": [
    {
      "cell_type": "markdown",
      "id": "afebe3e4-12ca-4f61-a3ca-ce1403240cee",
      "metadata": {
        "id": "afebe3e4-12ca-4f61-a3ca-ce1403240cee"
      },
      "source": [
        "## Similarity Analysis"
      ]
    },
    {
      "cell_type": "markdown",
      "id": "089cf25a-f9d2-44d2-a181-6a884dd65a12",
      "metadata": {
        "id": "089cf25a-f9d2-44d2-a181-6a884dd65a12"
      },
      "source": [
        "### Documents"
      ]
    },
    {
      "cell_type": "code",
      "execution_count": 9,
      "id": "2617b794-5e30-48f9-bdb4-af002242a0f5",
      "metadata": {
        "id": "2617b794-5e30-48f9-bdb4-af002242a0f5"
      },
      "outputs": [],
      "source": [
        "doc1='Hello, my name is Himanshu'\n",
        "doc2='Hi, my name is Himani'\n",
        "string=[doc1,doc2]"
      ]
    },
    {
      "cell_type": "markdown",
      "id": "3fed861d-52da-44ba-8562-46c6f2e471f0",
      "metadata": {
        "id": "3fed861d-52da-44ba-8562-46c6f2e471f0"
      },
      "source": [
        "### Preprocessing"
      ]
    },
    {
      "cell_type": "code",
      "execution_count": 10,
      "id": "35c6c4bb-eed8-4fd5-a1d0-76c28e1a481f",
      "metadata": {
        "colab": {
          "base_uri": "https://localhost:8080/"
        },
        "id": "35c6c4bb-eed8-4fd5-a1d0-76c28e1a481f",
        "outputId": "2d41131a-a4da-4c73-9dac-ed888c8101ef"
      },
      "outputs": [
        {
          "output_type": "stream",
          "name": "stdout",
          "text": [
            "{',', 'Himanshu', 'name', 'Hello'}\n",
            "{'Hi', ',', 'Himani', 'name'}\n"
          ]
        }
      ],
      "source": [
        "from nltk.corpus import stopwords\n",
        "from nltk.tokenize import word_tokenize\n",
        "doc1=word_tokenize(doc1)\n",
        "doc2=word_tokenize(doc2)\n",
        "sw = stopwords.words('english')\n",
        "l1 =[];l2 =[]\n",
        "X_set = {w for w in doc1 if not w in sw}\n",
        "Y_set = {w for w in doc2 if not w in sw}\n",
        "print(X_set)\n",
        "print(Y_set)"
      ]
    },
    {
      "cell_type": "markdown",
      "id": "6468e870-92e3-44fe-adce-07c7276e03ae",
      "metadata": {
        "id": "6468e870-92e3-44fe-adce-07c7276e03ae"
      },
      "source": [
        "### Creating Matrix"
      ]
    },
    {
      "cell_type": "code",
      "execution_count": 11,
      "id": "199f344e-fd99-47f0-9660-fc5d031ad778",
      "metadata": {
        "colab": {
          "base_uri": "https://localhost:8080/"
        },
        "id": "199f344e-fd99-47f0-9660-fc5d031ad778",
        "outputId": "6cfdec0d-c8a5-4496-a380-9d2ff4f1be32"
      },
      "outputs": [
        {
          "output_type": "stream",
          "name": "stdout",
          "text": [
            "{'Hi', 'name', 'Himani', ',', 'Himanshu', 'Hello'}\n",
            "[0, 1, 0, 1, 1, 1]\n",
            "[1, 1, 1, 1, 0, 0]\n"
          ]
        }
      ],
      "source": [
        "rvector = X_set.union(Y_set)\n",
        "for w in rvector:\n",
        "    if w in X_set: l1.append(1) # create a vector\n",
        "    else: l1.append(0)\n",
        "    if w in Y_set: l2.append(1)\n",
        "    else: l2.append(0)\n",
        "c = 0\n",
        "print(rvector)\n",
        "print(l1)\n",
        "print(l2)"
      ]
    },
    {
      "cell_type": "markdown",
      "id": "90651e5d-0d44-435e-92fd-4ec878ceedef",
      "metadata": {
        "id": "90651e5d-0d44-435e-92fd-4ec878ceedef"
      },
      "source": [
        "### Based on Cosine Similarity"
      ]
    },
    {
      "cell_type": "code",
      "execution_count": 12,
      "id": "e4bd5c6b-5ee3-418e-8473-2de57b77e504",
      "metadata": {
        "colab": {
          "base_uri": "https://localhost:8080/"
        },
        "id": "e4bd5c6b-5ee3-418e-8473-2de57b77e504",
        "outputId": "c7a6daba-e4c8-4d1a-879b-ad9d3adf347f"
      },
      "outputs": [
        {
          "output_type": "stream",
          "name": "stdout",
          "text": [
            "0.5\n"
          ]
        }
      ],
      "source": [
        "import numpy as np\n",
        "A=np.array(l1)\n",
        "B=np.array(l2)\n",
        "dot = np.dot(A,B)\n",
        "norma = np.linalg.norm(A)\n",
        "normb = np.linalg.norm(B)\n",
        "cos = dot/(norma*normb)\n",
        "print(cos)"
      ]
    },
    {
      "cell_type": "markdown",
      "id": "a2f018ab-d654-44b7-8fe4-74075976f00b",
      "metadata": {
        "id": "a2f018ab-d654-44b7-8fe4-74075976f00b"
      },
      "source": [
        "### Based on Euclidean Distance"
      ]
    },
    {
      "cell_type": "code",
      "execution_count": 13,
      "id": "e3e5e72c-e202-4f22-b6dc-b5e123d56919",
      "metadata": {
        "colab": {
          "base_uri": "https://localhost:8080/"
        },
        "id": "e3e5e72c-e202-4f22-b6dc-b5e123d56919",
        "outputId": "63e84618-bd80-4025-bfea-3d5ba748231d"
      },
      "outputs": [
        {
          "output_type": "stream",
          "name": "stdout",
          "text": [
            "2.0\n"
          ]
        }
      ],
      "source": [
        "d = np.linalg.norm(A-B)\n",
        "print(d)"
      ]
    },
    {
      "cell_type": "markdown",
      "id": "59015096-98d7-4ef9-adce-2db9b3c7e860",
      "metadata": {
        "id": "59015096-98d7-4ef9-adce-2db9b3c7e860"
      },
      "source": [
        "## Sentiment Analysis"
      ]
    },
    {
      "cell_type": "markdown",
      "id": "718a5050-5b81-4a72-bda8-425f4bbcdc76",
      "metadata": {
        "id": "718a5050-5b81-4a72-bda8-425f4bbcdc76"
      },
      "source": [
        "### Importing Data"
      ]
    },
    {
      "cell_type": "code",
      "execution_count": 14,
      "id": "0f999670-03e9-408b-a104-6840c256a639",
      "metadata": {
        "colab": {
          "base_uri": "https://localhost:8080/",
          "height": 204
        },
        "id": "0f999670-03e9-408b-a104-6840c256a639",
        "outputId": "ad01df5c-7be4-4398-c354-69ec9befed2a"
      },
      "outputs": [
        {
          "output_type": "execute_result",
          "data": {
            "text/plain": [
              "                                              review sentiment\n",
              "0  One of the other reviewers has mentioned that ...  positive\n",
              "1  A wonderful little production. <br /><br />The...  positive\n",
              "2  I thought this was a wonderful way to spend ti...  positive\n",
              "3  Basically there's a family where a little boy ...  negative\n",
              "4  Petter Mattei's \"Love in the Time of Money\" is...  positive"
            ],
            "text/html": [
              "\n",
              "  <div id=\"df-cf3eb647-7f52-447d-8594-377a92b7be14\" class=\"colab-df-container\">\n",
              "    <div>\n",
              "<style scoped>\n",
              "    .dataframe tbody tr th:only-of-type {\n",
              "        vertical-align: middle;\n",
              "    }\n",
              "\n",
              "    .dataframe tbody tr th {\n",
              "        vertical-align: top;\n",
              "    }\n",
              "\n",
              "    .dataframe thead th {\n",
              "        text-align: right;\n",
              "    }\n",
              "</style>\n",
              "<table border=\"1\" class=\"dataframe\">\n",
              "  <thead>\n",
              "    <tr style=\"text-align: right;\">\n",
              "      <th></th>\n",
              "      <th>review</th>\n",
              "      <th>sentiment</th>\n",
              "    </tr>\n",
              "  </thead>\n",
              "  <tbody>\n",
              "    <tr>\n",
              "      <th>0</th>\n",
              "      <td>One of the other reviewers has mentioned that ...</td>\n",
              "      <td>positive</td>\n",
              "    </tr>\n",
              "    <tr>\n",
              "      <th>1</th>\n",
              "      <td>A wonderful little production. &lt;br /&gt;&lt;br /&gt;The...</td>\n",
              "      <td>positive</td>\n",
              "    </tr>\n",
              "    <tr>\n",
              "      <th>2</th>\n",
              "      <td>I thought this was a wonderful way to spend ti...</td>\n",
              "      <td>positive</td>\n",
              "    </tr>\n",
              "    <tr>\n",
              "      <th>3</th>\n",
              "      <td>Basically there's a family where a little boy ...</td>\n",
              "      <td>negative</td>\n",
              "    </tr>\n",
              "    <tr>\n",
              "      <th>4</th>\n",
              "      <td>Petter Mattei's \"Love in the Time of Money\" is...</td>\n",
              "      <td>positive</td>\n",
              "    </tr>\n",
              "  </tbody>\n",
              "</table>\n",
              "</div>\n",
              "    <div class=\"colab-df-buttons\">\n",
              "\n",
              "  <div class=\"colab-df-container\">\n",
              "    <button class=\"colab-df-convert\" onclick=\"convertToInteractive('df-cf3eb647-7f52-447d-8594-377a92b7be14')\"\n",
              "            title=\"Convert this dataframe to an interactive table.\"\n",
              "            style=\"display:none;\">\n",
              "\n",
              "  <svg xmlns=\"http://www.w3.org/2000/svg\" height=\"24px\" viewBox=\"0 -960 960 960\">\n",
              "    <path d=\"M120-120v-720h720v720H120Zm60-500h600v-160H180v160Zm220 220h160v-160H400v160Zm0 220h160v-160H400v160ZM180-400h160v-160H180v160Zm440 0h160v-160H620v160ZM180-180h160v-160H180v160Zm440 0h160v-160H620v160Z\"/>\n",
              "  </svg>\n",
              "    </button>\n",
              "\n",
              "  <style>\n",
              "    .colab-df-container {\n",
              "      display:flex;\n",
              "      gap: 12px;\n",
              "    }\n",
              "\n",
              "    .colab-df-convert {\n",
              "      background-color: #E8F0FE;\n",
              "      border: none;\n",
              "      border-radius: 50%;\n",
              "      cursor: pointer;\n",
              "      display: none;\n",
              "      fill: #1967D2;\n",
              "      height: 32px;\n",
              "      padding: 0 0 0 0;\n",
              "      width: 32px;\n",
              "    }\n",
              "\n",
              "    .colab-df-convert:hover {\n",
              "      background-color: #E2EBFA;\n",
              "      box-shadow: 0px 1px 2px rgba(60, 64, 67, 0.3), 0px 1px 3px 1px rgba(60, 64, 67, 0.15);\n",
              "      fill: #174EA6;\n",
              "    }\n",
              "\n",
              "    .colab-df-buttons div {\n",
              "      margin-bottom: 4px;\n",
              "    }\n",
              "\n",
              "    [theme=dark] .colab-df-convert {\n",
              "      background-color: #3B4455;\n",
              "      fill: #D2E3FC;\n",
              "    }\n",
              "\n",
              "    [theme=dark] .colab-df-convert:hover {\n",
              "      background-color: #434B5C;\n",
              "      box-shadow: 0px 1px 3px 1px rgba(0, 0, 0, 0.15);\n",
              "      filter: drop-shadow(0px 1px 2px rgba(0, 0, 0, 0.3));\n",
              "      fill: #FFFFFF;\n",
              "    }\n",
              "  </style>\n",
              "\n",
              "    <script>\n",
              "      const buttonEl =\n",
              "        document.querySelector('#df-cf3eb647-7f52-447d-8594-377a92b7be14 button.colab-df-convert');\n",
              "      buttonEl.style.display =\n",
              "        google.colab.kernel.accessAllowed ? 'block' : 'none';\n",
              "\n",
              "      async function convertToInteractive(key) {\n",
              "        const element = document.querySelector('#df-cf3eb647-7f52-447d-8594-377a92b7be14');\n",
              "        const dataTable =\n",
              "          await google.colab.kernel.invokeFunction('convertToInteractive',\n",
              "                                                    [key], {});\n",
              "        if (!dataTable) return;\n",
              "\n",
              "        const docLinkHtml = 'Like what you see? Visit the ' +\n",
              "          '<a target=\"_blank\" href=https://colab.research.google.com/notebooks/data_table.ipynb>data table notebook</a>'\n",
              "          + ' to learn more about interactive tables.';\n",
              "        element.innerHTML = '';\n",
              "        dataTable['output_type'] = 'display_data';\n",
              "        await google.colab.output.renderOutput(dataTable, element);\n",
              "        const docLink = document.createElement('div');\n",
              "        docLink.innerHTML = docLinkHtml;\n",
              "        element.appendChild(docLink);\n",
              "      }\n",
              "    </script>\n",
              "  </div>\n",
              "\n",
              "\n",
              "<div id=\"df-55664420-b9e0-4b0b-93f6-77ccad895edc\">\n",
              "  <button class=\"colab-df-quickchart\" onclick=\"quickchart('df-55664420-b9e0-4b0b-93f6-77ccad895edc')\"\n",
              "            title=\"Suggest charts\"\n",
              "            style=\"display:none;\">\n",
              "\n",
              "<svg xmlns=\"http://www.w3.org/2000/svg\" height=\"24px\"viewBox=\"0 0 24 24\"\n",
              "     width=\"24px\">\n",
              "    <g>\n",
              "        <path d=\"M19 3H5c-1.1 0-2 .9-2 2v14c0 1.1.9 2 2 2h14c1.1 0 2-.9 2-2V5c0-1.1-.9-2-2-2zM9 17H7v-7h2v7zm4 0h-2V7h2v10zm4 0h-2v-4h2v4z\"/>\n",
              "    </g>\n",
              "</svg>\n",
              "  </button>\n",
              "\n",
              "<style>\n",
              "  .colab-df-quickchart {\n",
              "      --bg-color: #E8F0FE;\n",
              "      --fill-color: #1967D2;\n",
              "      --hover-bg-color: #E2EBFA;\n",
              "      --hover-fill-color: #174EA6;\n",
              "      --disabled-fill-color: #AAA;\n",
              "      --disabled-bg-color: #DDD;\n",
              "  }\n",
              "\n",
              "  [theme=dark] .colab-df-quickchart {\n",
              "      --bg-color: #3B4455;\n",
              "      --fill-color: #D2E3FC;\n",
              "      --hover-bg-color: #434B5C;\n",
              "      --hover-fill-color: #FFFFFF;\n",
              "      --disabled-bg-color: #3B4455;\n",
              "      --disabled-fill-color: #666;\n",
              "  }\n",
              "\n",
              "  .colab-df-quickchart {\n",
              "    background-color: var(--bg-color);\n",
              "    border: none;\n",
              "    border-radius: 50%;\n",
              "    cursor: pointer;\n",
              "    display: none;\n",
              "    fill: var(--fill-color);\n",
              "    height: 32px;\n",
              "    padding: 0;\n",
              "    width: 32px;\n",
              "  }\n",
              "\n",
              "  .colab-df-quickchart:hover {\n",
              "    background-color: var(--hover-bg-color);\n",
              "    box-shadow: 0 1px 2px rgba(60, 64, 67, 0.3), 0 1px 3px 1px rgba(60, 64, 67, 0.15);\n",
              "    fill: var(--button-hover-fill-color);\n",
              "  }\n",
              "\n",
              "  .colab-df-quickchart-complete:disabled,\n",
              "  .colab-df-quickchart-complete:disabled:hover {\n",
              "    background-color: var(--disabled-bg-color);\n",
              "    fill: var(--disabled-fill-color);\n",
              "    box-shadow: none;\n",
              "  }\n",
              "\n",
              "  .colab-df-spinner {\n",
              "    border: 2px solid var(--fill-color);\n",
              "    border-color: transparent;\n",
              "    border-bottom-color: var(--fill-color);\n",
              "    animation:\n",
              "      spin 1s steps(1) infinite;\n",
              "  }\n",
              "\n",
              "  @keyframes spin {\n",
              "    0% {\n",
              "      border-color: transparent;\n",
              "      border-bottom-color: var(--fill-color);\n",
              "      border-left-color: var(--fill-color);\n",
              "    }\n",
              "    20% {\n",
              "      border-color: transparent;\n",
              "      border-left-color: var(--fill-color);\n",
              "      border-top-color: var(--fill-color);\n",
              "    }\n",
              "    30% {\n",
              "      border-color: transparent;\n",
              "      border-left-color: var(--fill-color);\n",
              "      border-top-color: var(--fill-color);\n",
              "      border-right-color: var(--fill-color);\n",
              "    }\n",
              "    40% {\n",
              "      border-color: transparent;\n",
              "      border-right-color: var(--fill-color);\n",
              "      border-top-color: var(--fill-color);\n",
              "    }\n",
              "    60% {\n",
              "      border-color: transparent;\n",
              "      border-right-color: var(--fill-color);\n",
              "    }\n",
              "    80% {\n",
              "      border-color: transparent;\n",
              "      border-right-color: var(--fill-color);\n",
              "      border-bottom-color: var(--fill-color);\n",
              "    }\n",
              "    90% {\n",
              "      border-color: transparent;\n",
              "      border-bottom-color: var(--fill-color);\n",
              "    }\n",
              "  }\n",
              "</style>\n",
              "\n",
              "  <script>\n",
              "    async function quickchart(key) {\n",
              "      const quickchartButtonEl =\n",
              "        document.querySelector('#' + key + ' button');\n",
              "      quickchartButtonEl.disabled = true;  // To prevent multiple clicks.\n",
              "      quickchartButtonEl.classList.add('colab-df-spinner');\n",
              "      try {\n",
              "        const charts = await google.colab.kernel.invokeFunction(\n",
              "            'suggestCharts', [key], {});\n",
              "      } catch (error) {\n",
              "        console.error('Error during call to suggestCharts:', error);\n",
              "      }\n",
              "      quickchartButtonEl.classList.remove('colab-df-spinner');\n",
              "      quickchartButtonEl.classList.add('colab-df-quickchart-complete');\n",
              "    }\n",
              "    (() => {\n",
              "      let quickchartButtonEl =\n",
              "        document.querySelector('#df-55664420-b9e0-4b0b-93f6-77ccad895edc button');\n",
              "      quickchartButtonEl.style.display =\n",
              "        google.colab.kernel.accessAllowed ? 'block' : 'none';\n",
              "    })();\n",
              "  </script>\n",
              "</div>\n",
              "    </div>\n",
              "  </div>\n"
            ],
            "application/vnd.google.colaboratory.intrinsic+json": {
              "type": "dataframe",
              "variable_name": "data",
              "summary": "{\n  \"name\": \"data\",\n  \"rows\": 50000,\n  \"fields\": [\n    {\n      \"column\": \"review\",\n      \"properties\": {\n        \"dtype\": \"string\",\n        \"num_unique_values\": 49582,\n        \"samples\": [\n          \"\\\"Soul Plane\\\" is a horrible attempt at comedy that only should appeal people with thick skulls, bloodshot eyes and furry pawns. <br /><br />The plot is not only incoherent but also non-existent, acting is mostly sub sub-par with a gang of highly moronic and dreadful characters thrown in for bad measure, jokes are often spotted miles ahead and almost never even a bit amusing. This movie lacks any structure and is full of racial stereotypes that must have seemed old even in the fifties, the only thing it really has going for it is some pretty ladies, but really, if you want that you can rent something from the \\\"Adult\\\" section. OK?<br /><br />I can hardly see anything here to recommend since you'll probably have a lot a better and productive time chasing rats with a sledgehammer or inventing waterproof teabags or whatever.<br /><br />2/10\",\n          \"Guest from the Future tells a fascinating story of time travel, friendship, battle of good and evil -- all with a small budget, child actors, and few special effects. Something for Spielberg and Lucas to learn from. ;) A sixth-grader Kolya \\\"Nick\\\" Gerasimov finds a time machine in the basement of a decrepit building and travels 100 years into the future. He discovers a near-perfect, utopian society where robots play guitars and write poetry, everyone is kind to each other and people enjoy everything technology has to offer. Alice is the daughter of a prominent scientist who invented a device called Mielophone that allows to read minds of humans and animals. The device can be put to both good and bad use, depending on whose hands it falls into. When two evil space pirates from Saturn who want to rule the universe attempt to steal Mielophone, it falls into the hands of 20th century school boy Nick. With the pirates hot on his tracks, he travels back to his time, followed by the pirates, and Alice. Chaos, confusion and funny situations follow as the luckless pirates try to blend in with the earthlings. Alice enrolls in the same school Nick goes to and demonstrates superhuman abilities in PE class. The catch is, Alice doesn't know what Nick looks like, while the pirates do. Also, the pirates are able to change their appearance and turn literally into anyone. (Hmm, I wonder if this is where James Cameron got the idea for Terminator...) Who gets to Nick -- and Mielophone -- first? Excellent plot, non-stop adventures, and great soundtrack. I wish Hollywood made kid movies like this one...\",\n          \"\\\"National Treasure\\\" (2004) is a thoroughly misguided hodge-podge of plot entanglements that borrow from nearly every cloak and dagger government conspiracy clich\\u00e9 that has ever been written. The film stars Nicholas Cage as Benjamin Franklin Gates (how precious is that, I ask you?); a seemingly normal fellow who, for no other reason than being of a lineage of like-minded misguided fortune hunters, decides to steal a 'national treasure' that has been hidden by the United States founding fathers. After a bit of subtext and background that plays laughably (unintentionally) like Indiana Jones meets The Patriot, the film degenerates into one misguided whimsy after another \\u0096 attempting to create a 'Stanley Goodspeed' regurgitation of Nicholas Cage and launch the whole convoluted mess forward with a series of high octane, but disconnected misadventures.<br /><br />The relevancy and logic to having George Washington and his motley crew of patriots burying a king's ransom someplace on native soil, and then, going through the meticulous plan of leaving clues scattered throughout U.S. currency art work, is something that director Jon Turteltaub never quite gets around to explaining. Couldn't Washington found better usage for such wealth during the start up of the country? Hence, we are left with a mystery built on top of an enigma that is already on shaky ground by the time Ben appoints himself the new custodian of this untold wealth. Ben's intentions are noble \\u0096 if confusing. He's set on protecting the treasure. For who and when?\\u0085your guess is as good as mine.<br /><br />But there are a few problems with Ben's crusade. First up, his friend, Ian Holmes (Sean Bean) decides that he can't wait for Ben to make up his mind about stealing the Declaration of Independence from the National Archives (oh, yeah \\u0096 brilliant idea!). Presumably, the back of that famous document holds the secret answer to the ultimate fortune. So Ian tries to kill Ben. The assassination attempt is, of course, unsuccessful, if overly melodramatic. It also affords Ben the opportunity to pick up, and pick on, the very sultry curator of the archives, Abigail Chase (Diane Kruger). She thinks Ben is clearly a nut \\u0096 at least at the beginning. But true to action/romance form, Abby's resolve melts quicker than you can say, \\\"is that the Hope Diamond?\\\" The film moves into full X-File-ish mode, as the FBI, mistakenly believing that Ben is behind the theft, retaliate in various benign ways that lead to a multi-layering of action sequences reminiscent of Mission Impossible meets The Fugitive. Honestly, don't those guys ever get 'intelligence' information that is correct? In the final analysis, \\\"National Treasure\\\" isn't great film making, so much as it's a patchwork rehash of tired old bits from other movies, woven together from scraps, the likes of which would make IL' Betsy Ross blush.<br /><br />The Buena Vista DVD delivers a far more generous treatment than this film is deserving of. The anamorphic widescreen picture exhibits a very smooth and finely detailed image with very rich colors, natural flesh tones, solid blacks and clean whites. The stylized image is also free of blemishes and digital enhancements. The audio is 5.1 and delivers a nice sonic boom to your side and rear speakers with intensity and realism. Extras include a host of promotional junket material that is rather deep and over the top in its explanation of how and why this film was made. If only, as an audience, we had had more clarification as to why Ben and co. were chasing after an illusive treasure, this might have been one good flick. Extras conclude with the theatrical trailer, audio commentary and deleted scenes. Not for the faint-hearted \\u0096 just the thick-headed.\"\n        ],\n        \"semantic_type\": \"\",\n        \"description\": \"\"\n      }\n    },\n    {\n      \"column\": \"sentiment\",\n      \"properties\": {\n        \"dtype\": \"category\",\n        \"num_unique_values\": 2,\n        \"samples\": [\n          \"negative\",\n          \"positive\"\n        ],\n        \"semantic_type\": \"\",\n        \"description\": \"\"\n      }\n    }\n  ]\n}"
            }
          },
          "metadata": {},
          "execution_count": 14
        }
      ],
      "source": [
        "import pandas as pd\n",
        "data=pd.read_csv('/content/drive/MyDrive/IMDB Dataset.csv')\n",
        "data.head()"
      ]
    },
    {
      "cell_type": "markdown",
      "id": "1e7371ec-8e66-4844-83a4-2aabc031e541",
      "metadata": {
        "id": "1e7371ec-8e66-4844-83a4-2aabc031e541"
      },
      "source": [
        "### Preprocessing"
      ]
    },
    {
      "cell_type": "code",
      "execution_count": 15,
      "id": "9a40f848-012f-4d25-a1c9-273da3b18d24",
      "metadata": {
        "id": "9a40f848-012f-4d25-a1c9-273da3b18d24"
      },
      "outputs": [],
      "source": [
        "from nltk.corpus import stopwords\n",
        "data['review']=data['review'].str.lower()\n",
        "sw = stopwords.words('english')\n",
        "data['review']=data['review'].apply(lambda x: ' '.join([word for word in x.split() if word not in (sw)]))"
      ]
    },
    {
      "cell_type": "markdown",
      "id": "123191a9-63a9-4ea0-b59f-52d91b9b13d8",
      "metadata": {
        "id": "123191a9-63a9-4ea0-b59f-52d91b9b13d8"
      },
      "source": [
        "### Unigram Generation"
      ]
    },
    {
      "cell_type": "code",
      "execution_count": 16,
      "id": "74bb8365-e965-4476-a71e-4fdb787ca3b1",
      "metadata": {
        "colab": {
          "base_uri": "https://localhost:8080/"
        },
        "id": "74bb8365-e965-4476-a71e-4fdb787ca3b1",
        "outputId": "43cff0cd-eb79-40de-8a4b-2ec4ac571edc"
      },
      "outputs": [
        {
          "output_type": "stream",
          "name": "stderr",
          "text": [
            "/usr/local/lib/python3.10/dist-packages/sklearn/feature_extraction/text.py:528: UserWarning: The parameter 'token_pattern' will not be used since 'tokenizer' is not None'\n",
            "  warnings.warn(\n"
          ]
        }
      ],
      "source": [
        "from sklearn.feature_extraction.text import CountVectorizer\n",
        "from nltk.tokenize import RegexpTokenizer\n",
        "token = RegexpTokenizer(r'[a-zA-Z0-9]+')\n",
        "cv = CountVectorizer(ngram_range = (1,1),tokenizer = token.tokenize)\n",
        "text_counts = cv.fit_transform(data['review'])"
      ]
    },
    {
      "cell_type": "markdown",
      "id": "0ff00df5-5cb4-40db-bbc7-e85085ae2bfb",
      "metadata": {
        "id": "0ff00df5-5cb4-40db-bbc7-e85085ae2bfb"
      },
      "source": [
        "### Splitting the dataset for train and test"
      ]
    },
    {
      "cell_type": "code",
      "execution_count": 17,
      "id": "f95709e0-82a7-4925-81e5-1a22f84936df",
      "metadata": {
        "id": "f95709e0-82a7-4925-81e5-1a22f84936df"
      },
      "outputs": [],
      "source": [
        "from sklearn.model_selection import train_test_split\n",
        "X=text_counts\n",
        "y=data['sentiment']\n",
        "X_train, X_test, y_train, y_test = train_test_split(X, y, test_size=0.20,random_state=30)"
      ]
    },
    {
      "cell_type": "markdown",
      "id": "2b715382-66aa-475d-a0ea-69573920e292",
      "metadata": {
        "id": "2b715382-66aa-475d-a0ea-69573920e292"
      },
      "source": [
        "### Fitting Multinomial Naive Bayes model"
      ]
    },
    {
      "cell_type": "code",
      "execution_count": 18,
      "id": "746184e1-6a9d-4350-bdfb-70b6e055f1fd",
      "metadata": {
        "colab": {
          "base_uri": "https://localhost:8080/"
        },
        "id": "746184e1-6a9d-4350-bdfb-70b6e055f1fd",
        "outputId": "c60ece40-04df-446a-8b6e-4d70f0b01a61"
      },
      "outputs": [
        {
          "output_type": "stream",
          "name": "stdout",
          "text": [
            "MultinominalNB model accuracy is 86.10%\n"
          ]
        }
      ],
      "source": [
        "from sklearn.naive_bayes import MultinomialNB\n",
        "from sklearn.metrics import accuracy_score, classification_report, confusion_matrix\n",
        "MNB = MultinomialNB()\n",
        "MNB.fit(X_train, y_train)\n",
        "\n",
        "predicted = MNB.predict(X_test)\n",
        "accuracy_score = accuracy_score(predicted, y_test)\n",
        "\n",
        "print('MultinominalNB model accuracy is',str('{:04.2f}'.format(accuracy_score*100))+'%')"
      ]
    },
    {
      "cell_type": "markdown",
      "id": "0d22df28-404b-4a74-b3c4-8f42d7e10ffe",
      "metadata": {
        "id": "0d22df28-404b-4a74-b3c4-8f42d7e10ffe"
      },
      "source": [
        "### Preprocessing for Neural Network models"
      ]
    },
    {
      "cell_type": "code",
      "execution_count": 19,
      "id": "bf4b8bf4-55d0-41a7-bfa3-ef107e4a2ab1",
      "metadata": {
        "id": "bf4b8bf4-55d0-41a7-bfa3-ef107e4a2ab1"
      },
      "outputs": [],
      "source": [
        "import tensorflow\n",
        "from tensorflow.keras.preprocessing.text import Tokenizer\n",
        "from tensorflow.keras.preprocessing.sequence import pad_sequences\n",
        "sentiment_label=data['sentiment'].factorize()\n",
        "review = data['review'].values\n",
        "tokenizer = Tokenizer(num_words=5000)\n",
        "tokenizer.fit_on_texts(review)\n",
        "vocab_size = len(tokenizer.word_index) + 1\n",
        "encoded_docs = tokenizer.texts_to_sequences(review)\n",
        "padded_sequence = pad_sequences(encoded_docs, maxlen=200)\n",
        "embedding_vector_length = 32"
      ]
    },
    {
      "cell_type": "markdown",
      "id": "62e250a7-c8b9-45e7-9dfb-304422369d04",
      "metadata": {
        "id": "62e250a7-c8b9-45e7-9dfb-304422369d04"
      },
      "source": [
        "### Fitting RNN model"
      ]
    },
    {
      "cell_type": "code",
      "execution_count": 22,
      "id": "f313e283-6b16-4488-a1a2-653b43b0110a",
      "metadata": {
        "colab": {
          "base_uri": "https://localhost:8080/"
        },
        "id": "f313e283-6b16-4488-a1a2-653b43b0110a",
        "outputId": "40a44c46-ccec-41f3-b8d1-96881c3f4da0"
      },
      "outputs": [
        {
          "output_type": "stream",
          "name": "stdout",
          "text": [
            "Epoch 1/10\n",
            "625/625 [==============================] - 82s 127ms/step - loss: 0.5952 - accuracy: 0.6474 - val_loss: 0.3966 - val_accuracy: 0.8341\n",
            "Epoch 2/10\n",
            "625/625 [==============================] - 85s 137ms/step - loss: 0.3778 - accuracy: 0.8423 - val_loss: 0.3767 - val_accuracy: 0.8383\n",
            "Epoch 3/10\n",
            "625/625 [==============================] - 86s 138ms/step - loss: 0.3209 - accuracy: 0.8681 - val_loss: 0.3484 - val_accuracy: 0.8622\n",
            "Epoch 4/10\n",
            "625/625 [==============================] - 75s 120ms/step - loss: 0.3132 - accuracy: 0.8748 - val_loss: 0.4395 - val_accuracy: 0.7934\n",
            "Epoch 5/10\n",
            "625/625 [==============================] - 74s 119ms/step - loss: 0.4457 - accuracy: 0.7869 - val_loss: 0.6594 - val_accuracy: 0.5979\n",
            "Epoch 6/10\n",
            "625/625 [==============================] - 75s 119ms/step - loss: 0.3866 - accuracy: 0.8214 - val_loss: 0.3830 - val_accuracy: 0.8550\n",
            "Epoch 7/10\n",
            "625/625 [==============================] - 74s 118ms/step - loss: 0.2962 - accuracy: 0.8853 - val_loss: 0.3466 - val_accuracy: 0.8600\n",
            "Epoch 8/10\n",
            "625/625 [==============================] - 73s 117ms/step - loss: 0.2778 - accuracy: 0.8925 - val_loss: 0.3853 - val_accuracy: 0.8546\n",
            "Epoch 9/10\n",
            "625/625 [==============================] - 73s 117ms/step - loss: 0.5153 - accuracy: 0.7538 - val_loss: 0.7247 - val_accuracy: 0.5027\n",
            "Epoch 10/10\n",
            "625/625 [==============================] - 73s 117ms/step - loss: 0.5732 - accuracy: 0.6957 - val_loss: 0.4263 - val_accuracy: 0.8206\n"
          ]
        },
        {
          "output_type": "execute_result",
          "data": {
            "text/plain": [
              "<keras.src.callbacks.History at 0x7d83db7deb90>"
            ]
          },
          "metadata": {},
          "execution_count": 22
        }
      ],
      "source": [
        "from tensorflow.keras.layers import SimpleRNN, Dense, Embedding, Dropout\n",
        "from tensorflow.keras.models import Sequential\n",
        "RNN_model=Sequential()\n",
        "RNN_model.add(Embedding(vocab_size, embedding_vector_length, input_length=200))\n",
        "RNN_model.add(SimpleRNN(128, activation='tanh',return_sequences=False))\n",
        "RNN_model.add(Dropout(0.2))\n",
        "RNN_model.add(Dense(1, activation='sigmoid'))\n",
        "RNN_model.compile(loss=\"binary_crossentropy\", optimizer='adam', metrics=['accuracy'])\n",
        "RNN_model.fit(padded_sequence,sentiment_label[0],batch_size=64,epochs=10,verbose=1,validation_split=0.2)"
      ]
    },
    {
      "cell_type": "markdown",
      "id": "528fcf42-14af-4f57-a963-2701803090ea",
      "metadata": {
        "id": "528fcf42-14af-4f57-a963-2701803090ea"
      },
      "source": [
        "### Fitting LSTM model"
      ]
    },
    {
      "cell_type": "code",
      "execution_count": 24,
      "id": "268fb6ed-7b58-480c-9964-6e3d5005236e",
      "metadata": {
        "colab": {
          "base_uri": "https://localhost:8080/"
        },
        "id": "268fb6ed-7b58-480c-9964-6e3d5005236e",
        "outputId": "c208de4d-b549-46e2-a7dc-e5961e454062"
      },
      "outputs": [
        {
          "output_type": "stream",
          "name": "stdout",
          "text": [
            "Epoch 1/5\n",
            "625/625 [==============================] - 190s 301ms/step - loss: 0.3825 - accuracy: 0.8270 - val_loss: 0.2826 - val_accuracy: 0.8806\n",
            "Epoch 2/5\n",
            "625/625 [==============================] - 175s 281ms/step - loss: 0.2624 - accuracy: 0.8959 - val_loss: 0.2721 - val_accuracy: 0.8890\n",
            "Epoch 3/5\n",
            "625/625 [==============================] - 203s 324ms/step - loss: 0.2354 - accuracy: 0.9066 - val_loss: 0.3006 - val_accuracy: 0.8866\n",
            "Epoch 4/5\n",
            "625/625 [==============================] - 182s 291ms/step - loss: 0.2155 - accuracy: 0.9152 - val_loss: 0.3235 - val_accuracy: 0.8867\n",
            "Epoch 5/5\n",
            "625/625 [==============================] - 178s 286ms/step - loss: 0.2012 - accuracy: 0.9206 - val_loss: 0.3054 - val_accuracy: 0.8860\n"
          ]
        },
        {
          "output_type": "execute_result",
          "data": {
            "text/plain": [
              "<keras.src.callbacks.History at 0x7d83d0543430>"
            ]
          },
          "metadata": {},
          "execution_count": 24
        }
      ],
      "source": [
        "from tensorflow.keras.layers import LSTM\n",
        "LSTM_model=Sequential()\n",
        "LSTM_model.add(Embedding(vocab_size, embedding_vector_length, input_length=200) )\n",
        "LSTM_model.add(LSTM(50, dropout=0.5,recurrent_dropout=0.5 ,activation='tanh',return_sequences=False))\n",
        "LSTM_model.add(Dropout(0.2))\n",
        "LSTM_model.add(Dense(1, activation='sigmoid'))\n",
        "LSTM_model.compile(loss=\"binary_crossentropy\", optimizer='adam', metrics=['accuracy'])\n",
        "LSTM_model.fit(padded_sequence,sentiment_label[0],batch_size=64,epochs=5,verbose=1,validation_split=0.2)"
      ]
    },
    {
      "cell_type": "markdown",
      "id": "a4eec44d-fb5c-4cf0-b9a6-abd21a6474e5",
      "metadata": {
        "id": "a4eec44d-fb5c-4cf0-b9a6-abd21a6474e5"
      },
      "source": [
        "### Making Predictions"
      ]
    },
    {
      "cell_type": "code",
      "execution_count": 26,
      "id": "7aaffdf3-f09e-487a-8808-e17e560146fc",
      "metadata": {
        "colab": {
          "base_uri": "https://localhost:8080/"
        },
        "id": "7aaffdf3-f09e-487a-8808-e17e560146fc",
        "outputId": "49e97fa8-4f5c-4866-f5a0-9ea3728b4e5f"
      },
      "outputs": [
        {
          "output_type": "stream",
          "name": "stdout",
          "text": [
            "shot movie. proud film. great experience shows screen. halfdan hussey excellent collaborator vision able capture movie exact way envisioned prepping film. sets amazing well crafted character. john york team built sets fit characters, worked well shooting film, allowing us move seamlessly walls one set another. character amazing arc, makes great story. feel like actors gave excellent performances. disagree comments say acting good. watch decide yourself.\n",
            "1/1 [==============================] - 0s 28ms/step\n",
            "RNN Model Predicted label:  positive\n",
            "1/1 [==============================] - 0s 36ms/step\n",
            "LSTM Model Predicted label:  positive\n"
          ]
        }
      ],
      "source": [
        "def predict_sentiment(text):\n",
        "    tw = tokenizer.texts_to_sequences([text])\n",
        "    tw = pad_sequences(tw,maxlen=200)\n",
        "    prediction = int(RNN_model.predict(tw).round().item())\n",
        "    print(\"RNN Model Predicted label: \", sentiment_label[1][prediction])\n",
        "    prediction = int(LSTM_model.predict(tw).round().item())\n",
        "    print(\"LSTM Model Predicted label: \", sentiment_label[1][prediction])\n",
        "\n",
        "import random\n",
        "random_text=data['review'][random.randint(0, 5000)]\n",
        "print(random_text)\n",
        "predict_sentiment(random_text)"
      ]
    }
  ],
  "metadata": {
    "kernelspec": {
      "display_name": "Python 3 (ipykernel)",
      "language": "python",
      "name": "python3"
    },
    "language_info": {
      "codemirror_mode": {
        "name": "ipython",
        "version": 3
      },
      "file_extension": ".py",
      "mimetype": "text/x-python",
      "name": "python",
      "nbconvert_exporter": "python",
      "pygments_lexer": "ipython3",
      "version": "3.11.7"
    },
    "colab": {
      "provenance": []
    }
  },
  "nbformat": 4,
  "nbformat_minor": 5
}