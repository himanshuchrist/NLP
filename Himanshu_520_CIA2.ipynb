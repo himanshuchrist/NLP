{
 "cells": [
  {
   "cell_type": "markdown",
   "id": "64c5f7d0",
   "metadata": {},
   "source": [
    "### Text initialization"
   ]
  },
  {
   "cell_type": "code",
   "execution_count": 24,
   "id": "12cbd1e9",
   "metadata": {},
   "outputs": [
    {
     "data": {
      "text/plain": [
       "'transformer is an exceptional innovation in the field of deep learning, contributed by ashish vaswani et al. (2017), google. the transformer is the most influential neural network model that has shown outstanding performance on various nlp tasks including machine reading comprehension, machine translation and sentence classification. attention mechanism and parallelization are the prominent features in the transformers. consequently, it can facilitate long-range dependencies without any gradient vanishing or gradient explosion problems and it overcomes the drawbacks of the existing methods such as rnn and lstm. the transformer is executed with an encoder-decoder mechanism and the original article of transformers # “attention all you need”.'"
      ]
     },
     "execution_count": 24,
     "metadata": {},
     "output_type": "execute_result"
    }
   ],
   "source": [
    "text='Transformer is an exceptional innovation in the field of Deep Learning, contributed by Ashish Vaswani et al. (2017), Google. The transformer is the most influential Neural Network model that has shown outstanding performance on various NLP tasks including Machine Reading Comprehension, Machine translation and sentence classification. Attention mechanism and parallelization are the prominent features in the transformers. Consequently, it can facilitate long-range dependencies without any gradient vanishing or gradient explosion problems and it overcomes the drawbacks of the existing methods such as RNN and LSTM. The transformer is executed with an encoder-decoder mechanism and the original article of transformers # “Attention All You Need”.'\n",
    "text=text.lower()\n",
    "text"
   ]
  },
  {
   "cell_type": "markdown",
   "id": "1da564b0",
   "metadata": {},
   "source": [
    "### Word Tokenization"
   ]
  },
  {
   "cell_type": "code",
   "execution_count": 25,
   "id": "1ed769eb",
   "metadata": {},
   "outputs": [
    {
     "name": "stdout",
     "output_type": "stream",
     "text": [
      "['transformer', 'is', 'an', 'exceptional', 'innovation', 'in', 'the', 'field', 'of', 'deep', 'learning', ',', 'contributed', 'by', 'ashish', 'vaswani', 'et', 'al', '.', '(', '2017', ')', ',', 'google', '.', 'the', 'transformer', 'is', 'the', 'most', 'influential', 'neural', 'network', 'model', 'that', 'has', 'shown', 'outstanding', 'performance', 'on', 'various', 'nlp', 'tasks', 'including', 'machine', 'reading', 'comprehension', ',', 'machine', 'translation', 'and', 'sentence', 'classification', '.', 'attention', 'mechanism', 'and', 'parallelization', 'are', 'the', 'prominent', 'features', 'in', 'the', 'transformers', '.', 'consequently', ',', 'it', 'can', 'facilitate', 'long-range', 'dependencies', 'without', 'any', 'gradient', 'vanishing', 'or', 'gradient', 'explosion', 'problems', 'and', 'it', 'overcomes', 'the', 'drawbacks', 'of', 'the', 'existing', 'methods', 'such', 'as', 'rnn', 'and', 'lstm', '.', 'the', 'transformer', 'is', 'executed', 'with', 'an', 'encoder-decoder', 'mechanism', 'and', 'the', 'original', 'article', 'of', 'transformers', '#', '“', 'attention', 'all', 'you', 'need', '”', '.']\n"
     ]
    }
   ],
   "source": [
    "from nltk.tokenize import word_tokenize\n",
    "words=[]\n",
    "words=word_tokenize(text)\n",
    "print(words)"
   ]
  },
  {
   "cell_type": "markdown",
   "id": "39747b18",
   "metadata": {},
   "source": [
    "### Sentence Tokenization"
   ]
  },
  {
   "cell_type": "code",
   "execution_count": 26,
   "id": "71b56a96",
   "metadata": {},
   "outputs": [
    {
     "name": "stdout",
     "output_type": "stream",
     "text": [
      "['transformer is an exceptional innovation in the field of deep learning, contributed by ashish vaswani et al.', '(2017), google.', 'the transformer is the most influential neural network model that has shown outstanding performance on various nlp tasks including machine reading comprehension, machine translation and sentence classification.', 'attention mechanism and parallelization are the prominent features in the transformers.', 'consequently, it can facilitate long-range dependencies without any gradient vanishing or gradient explosion problems and it overcomes the drawbacks of the existing methods such as rnn and lstm.', 'the transformer is executed with an encoder-decoder mechanism and the original article of transformers # “attention all you need”.']\n"
     ]
    }
   ],
   "source": [
    "from nltk.tokenize import sent_tokenize\n",
    "sentence=[]\n",
    "sentence=sent_tokenize(text)\n",
    "print(sentence)"
   ]
  },
  {
   "cell_type": "markdown",
   "id": "c4369b0c",
   "metadata": {},
   "source": [
    "### Removing Stop words"
   ]
  },
  {
   "cell_type": "code",
   "execution_count": 27,
   "id": "83edd86f",
   "metadata": {},
   "outputs": [
    {
     "name": "stdout",
     "output_type": "stream",
     "text": [
      "['transformer', 'exceptional', 'innovation', 'field', 'deep', 'learning', ',', 'contributed', 'ashish', 'vaswani', 'et', 'al', '.', '(', '2017', ')', ',', 'google', '.', 'transformer', 'influential', 'neural', 'network', 'model', 'shown', 'outstanding', 'performance', 'various', 'nlp', 'tasks', 'including', 'machine', 'reading', 'comprehension', ',', 'machine', 'translation', 'sentence', 'classification', '.', 'attention', 'mechanism', 'parallelization', 'prominent', 'features', 'transformers', '.', 'consequently', ',', 'facilitate', 'long-range', 'dependencies', 'without', 'gradient', 'vanishing', 'gradient', 'explosion', 'problems', 'overcomes', 'drawbacks', 'existing', 'methods', 'rnn', 'lstm', '.', 'transformer', 'executed', 'encoder-decoder', 'mechanism', 'original', 'article', 'transformers', '#', '“', 'attention', 'need', '”', '.']\n"
     ]
    }
   ],
   "source": [
    "from nltk.corpus import stopwords\n",
    "stop=stopwords.words('english')\n",
    "nostop=[i for i in words if i not in stop]\n",
    "print(nostop)"
   ]
  },
  {
   "cell_type": "markdown",
   "id": "0835f344",
   "metadata": {},
   "source": [
    "### Removing Punctuations"
   ]
  },
  {
   "cell_type": "code",
   "execution_count": 28,
   "id": "80548aff",
   "metadata": {},
   "outputs": [
    {
     "name": "stdout",
     "output_type": "stream",
     "text": [
      "['transformer', 'exceptional', 'innovation', 'field', 'deep', 'learning', 'contributed', 'ashish', 'vaswani', 'et', 'al', '2017', 'google', 'transformer', 'influential', 'neural', 'network', 'model', 'shown', 'outstanding', 'performance', 'various', 'nlp', 'tasks', 'including', 'machine', 'reading', 'comprehension', 'machine', 'translation', 'sentence', 'classification', 'attention', 'mechanism', 'parallelization', 'prominent', 'features', 'transformers', 'consequently', 'facilitate', 'long-range', 'dependencies', 'without', 'gradient', 'vanishing', 'gradient', 'explosion', 'problems', 'overcomes', 'drawbacks', 'existing', 'methods', 'rnn', 'lstm', 'transformer', 'executed', 'encoder-decoder', 'mechanism', 'original', 'article', 'transformers', '“', 'attention', 'need', '”']\n"
     ]
    }
   ],
   "source": [
    "import string\n",
    "punctuation = string.punctuation\n",
    "nostop = [i for i in nostop if i not in punctuation]\n",
    "print(nostop)"
   ]
  },
  {
   "cell_type": "markdown",
   "id": "1f5a15a8",
   "metadata": {},
   "source": [
    "### Frequency of words"
   ]
  },
  {
   "cell_type": "code",
   "execution_count": 29,
   "id": "a4d2586c",
   "metadata": {},
   "outputs": [
    {
     "data": {
      "text/plain": [
       "<BarContainer object of 5 artists>"
      ]
     },
     "execution_count": 29,
     "metadata": {},
     "output_type": "execute_result"
    },
    {
     "data": {
      "image/png": "[encoded data removed]",
      "text/plain": [
       "<Figure size 1000x500 with 1 Axes>"
      ]
     },
     "metadata": {},
     "output_type": "display_data"
    }
   ],
   "source": [
    "import matplotlib.pyplot as plt\n",
    "plt.figure(figsize=(10,5))\n",
    "counts = [nostop.count(value) for value in nostop]\n",
    "data={}\n",
    "for key in nostop:\n",
    "    for value in counts:\n",
    "        data[key] = value\n",
    "        counts.remove(value)\n",
    "        break\n",
    "data=dict(sorted(data.items(), key=lambda item: item[1], reverse=True))\n",
    "plt.bar(list(data.keys())[:5],list(data.values())[:5])"
   ]
  },
  {
   "cell_type": "markdown",
   "id": "b610b53a",
   "metadata": {},
   "source": [
    "### Stemming 1- Lancaster"
   ]
  },
  {
   "cell_type": "code",
   "execution_count": 41,
   "id": "fe796b26",
   "metadata": {},
   "outputs": [
    {
     "name": "stdout",
     "output_type": "stream",
     "text": [
      "transformer --- transform\n",
      "exceptional --- exceiv\n",
      "innovation --- innov\n",
      "field --- field\n",
      "deep --- deep\n",
      "learning --- learn\n",
      "contributed --- contribut\n",
      "ashish --- ash\n",
      "vaswani --- vaswan\n",
      "et --- et\n",
      "al --- al\n",
      "2017 --- 2017\n",
      "google --- googl\n",
      "transformer --- transform\n",
      "influential --- influ\n",
      "neural --- neur\n",
      "network --- network\n",
      "model --- model\n",
      "shown --- shown\n",
      "outstanding --- outstand\n",
      "performance --- perform\n",
      "various --- vary\n",
      "nlp --- nlp\n",
      "tasks --- task\n",
      "including --- includ\n",
      "machine --- machin\n",
      "reading --- read\n",
      "comprehension --- comprehend\n",
      "machine --- machin\n",
      "translation --- transl\n",
      "sentence --- sent\n",
      "classification --- class\n",
      "attention --- at\n",
      "mechanism --- mech\n",
      "parallelization --- parallel\n",
      "prominent --- promin\n",
      "features --- feat\n",
      "transformers --- transform\n",
      "consequently --- consequ\n",
      "facilitate --- facilit\n",
      "long-range --- long-range\n",
      "dependencies --- depend\n",
      "without --- without\n",
      "gradient --- grady\n",
      "vanishing --- van\n",
      "gradient --- grady\n",
      "explosion --- explod\n",
      "problems --- problem\n",
      "overcomes --- overcom\n",
      "drawbacks --- drawback\n",
      "existing --- ex\n",
      "methods --- method\n",
      "rnn --- rnn\n",
      "lstm --- lstm\n",
      "transformer --- transform\n",
      "executed --- execut\n",
      "encoder-decoder --- encoder-decod\n",
      "mechanism --- mech\n",
      "original --- origin\n",
      "article --- artic\n",
      "transformers --- transform\n",
      "“ --- “\n",
      "attention --- at\n",
      "need --- nee\n",
      "” --- ”\n"
     ]
    }
   ],
   "source": [
    "from nltk.stem import LancasterStemmer\n",
    "ls=LancasterStemmer()\n",
    "for i in nostop:\n",
    "    print(i,\"---\",ls.stem(i))"
   ]
  },
  {
   "cell_type": "markdown",
   "id": "a4434935",
   "metadata": {},
   "source": [
    "### Stemming 2- ISRIS"
   ]
  },
  {
   "cell_type": "code",
   "execution_count": 46,
   "id": "81b112d4",
   "metadata": {},
   "outputs": [
    {
     "name": "stdout",
     "output_type": "stream",
     "text": [
      "transformer --- transformer\n",
      "exceptional --- exceptional\n",
      "innovation --- innovation\n",
      "field --- field\n",
      "deep --- deep\n",
      "learning --- learning\n",
      "contributed --- contributed\n",
      "ashish --- ashish\n",
      "vaswani --- vaswani\n",
      "et --- et\n",
      "al --- al\n",
      "2017 --- 2017\n",
      "google --- google\n",
      "transformer --- transformer\n",
      "influential --- influential\n",
      "neural --- neural\n",
      "network --- network\n",
      "model --- model\n",
      "shown --- shown\n",
      "outstanding --- outstanding\n",
      "performance --- performance\n",
      "various --- various\n",
      "nlp --- nlp\n",
      "tasks --- tasks\n",
      "including --- including\n",
      "machine --- machine\n",
      "reading --- reading\n",
      "comprehension --- comprehension\n",
      "machine --- machine\n",
      "translation --- translation\n",
      "sentence --- sentence\n",
      "classification --- classification\n",
      "attention --- attention\n",
      "mechanism --- mechanism\n",
      "parallelization --- parallelization\n",
      "prominent --- prominent\n",
      "features --- features\n",
      "transformers --- transformers\n",
      "consequently --- consequently\n",
      "facilitate --- facilitate\n",
      "long-range --- long-range\n",
      "dependencies --- dependencies\n",
      "without --- without\n",
      "gradient --- gradient\n",
      "vanishing --- vanishing\n",
      "gradient --- gradient\n",
      "explosion --- explosion\n",
      "problems --- problems\n",
      "overcomes --- overcomes\n",
      "drawbacks --- drawbacks\n",
      "existing --- existing\n",
      "methods --- methods\n",
      "rnn --- rnn\n",
      "lstm --- lstm\n",
      "transformer --- transformer\n",
      "executed --- executed\n",
      "encoder-decoder --- encoder-decoder\n",
      "mechanism --- mechanism\n",
      "original --- original\n",
      "article --- article\n",
      "transformers --- transformers\n",
      "“ --- “\n",
      "attention --- attention\n",
      "need --- need\n",
      "” --- ”\n"
     ]
    }
   ],
   "source": [
    "from nltk.stem import ISRIStemmer\n",
    "isris=ISRIStemmer()\n",
    "for i in nostop:\n",
    "    print(i,\"---\",isris.stem(i))"
   ]
  },
  {
   "cell_type": "markdown",
   "id": "a8062e80",
   "metadata": {},
   "source": [
    "### Lemmatization"
   ]
  },
  {
   "cell_type": "code",
   "execution_count": 47,
   "id": "e720a2b8",
   "metadata": {},
   "outputs": [
    {
     "name": "stdout",
     "output_type": "stream",
     "text": [
      "transformer --- transformer\n",
      "exceptional --- exceptional\n",
      "innovation --- innovation\n",
      "field --- field\n",
      "deep --- deep\n",
      "learning --- learning\n",
      "contributed --- contributed\n",
      "ashish --- ashish\n",
      "vaswani --- vaswani\n",
      "et --- et\n",
      "al --- al\n",
      "2017 --- 2017\n",
      "google --- google\n",
      "transformer --- transformer\n",
      "influential --- influential\n",
      "neural --- neural\n",
      "network --- network\n",
      "model --- model\n",
      "shown --- shown\n",
      "outstanding --- outstanding\n",
      "performance --- performance\n",
      "various --- various\n",
      "nlp --- nlp\n",
      "tasks --- task\n",
      "including --- including\n",
      "machine --- machine\n",
      "reading --- reading\n",
      "comprehension --- comprehension\n",
      "machine --- machine\n",
      "translation --- translation\n",
      "sentence --- sentence\n",
      "classification --- classification\n",
      "attention --- attention\n",
      "mechanism --- mechanism\n",
      "parallelization --- parallelization\n",
      "prominent --- prominent\n",
      "features --- feature\n",
      "transformers --- transformer\n",
      "consequently --- consequently\n",
      "facilitate --- facilitate\n",
      "long-range --- long-range\n",
      "dependencies --- dependency\n",
      "without --- without\n",
      "gradient --- gradient\n",
      "vanishing --- vanishing\n",
      "gradient --- gradient\n",
      "explosion --- explosion\n",
      "problems --- problem\n",
      "overcomes --- overcomes\n",
      "drawbacks --- drawback\n",
      "existing --- existing\n",
      "methods --- method\n",
      "rnn --- rnn\n",
      "lstm --- lstm\n",
      "transformer --- transformer\n",
      "executed --- executed\n",
      "encoder-decoder --- encoder-decoder\n",
      "mechanism --- mechanism\n",
      "original --- original\n",
      "article --- article\n",
      "transformers --- transformer\n",
      "“ --- “\n",
      "attention --- attention\n",
      "need --- need\n",
      "” --- ”\n"
     ]
    }
   ],
   "source": [
    "from nltk.stem import WordNetLemmatizer\n",
    "lem=WordNetLemmatizer()\n",
    "for i in nostop:\n",
    "    print(i,\"---\",lem.lemmatize(i))"
   ]
  },
  {
   "cell_type": "markdown",
   "id": "880ab78d",
   "metadata": {},
   "source": [
    "### PoS Tagging"
   ]
  },
  {
   "cell_type": "code",
   "execution_count": 31,
   "id": "e74d05ad",
   "metadata": {},
   "outputs": [
    {
     "data": {
      "text/plain": [
       "[('transformer', 'NN'),\n",
       " ('is', 'VBZ'),\n",
       " ('an', 'DT'),\n",
       " ('exceptional', 'JJ'),\n",
       " ('innovation', 'NN'),\n",
       " ('in', 'IN'),\n",
       " ('the', 'DT'),\n",
       " ('field', 'NN'),\n",
       " ('of', 'IN'),\n",
       " ('deep', 'JJ'),\n",
       " ('learning', 'NN'),\n",
       " (',', ','),\n",
       " ('contributed', 'VBN'),\n",
       " ('by', 'IN'),\n",
       " ('ashish', 'JJ'),\n",
       " ('vaswani', 'NNS'),\n",
       " ('et', 'VBP'),\n",
       " ('al', 'NN'),\n",
       " ('.', '.'),\n",
       " ('(', '('),\n",
       " ('2017', 'CD'),\n",
       " (')', ')'),\n",
       " (',', ','),\n",
       " ('google', 'NN'),\n",
       " ('.', '.'),\n",
       " ('the', 'DT'),\n",
       " ('transformer', 'NN'),\n",
       " ('is', 'VBZ'),\n",
       " ('the', 'DT'),\n",
       " ('most', 'RBS'),\n",
       " ('influential', 'JJ'),\n",
       " ('neural', 'JJ'),\n",
       " ('network', 'NN'),\n",
       " ('model', 'NN'),\n",
       " ('that', 'WDT'),\n",
       " ('has', 'VBZ'),\n",
       " ('shown', 'VBN'),\n",
       " ('outstanding', 'JJ'),\n",
       " ('performance', 'NN'),\n",
       " ('on', 'IN'),\n",
       " ('various', 'JJ'),\n",
       " ('nlp', 'JJ'),\n",
       " ('tasks', 'NNS'),\n",
       " ('including', 'VBG'),\n",
       " ('machine', 'NN'),\n",
       " ('reading', 'NN'),\n",
       " ('comprehension', 'NN'),\n",
       " (',', ','),\n",
       " ('machine', 'NN'),\n",
       " ('translation', 'NN'),\n",
       " ('and', 'CC'),\n",
       " ('sentence', 'NN'),\n",
       " ('classification', 'NN'),\n",
       " ('.', '.'),\n",
       " ('attention', 'NN'),\n",
       " ('mechanism', 'NN'),\n",
       " ('and', 'CC'),\n",
       " ('parallelization', 'NN'),\n",
       " ('are', 'VBP'),\n",
       " ('the', 'DT'),\n",
       " ('prominent', 'JJ'),\n",
       " ('features', 'NNS'),\n",
       " ('in', 'IN'),\n",
       " ('the', 'DT'),\n",
       " ('transformers', 'NNS'),\n",
       " ('.', '.'),\n",
       " ('consequently', 'RB'),\n",
       " (',', ','),\n",
       " ('it', 'PRP'),\n",
       " ('can', 'MD'),\n",
       " ('facilitate', 'VB'),\n",
       " ('long-range', 'JJ'),\n",
       " ('dependencies', 'NNS'),\n",
       " ('without', 'IN'),\n",
       " ('any', 'DT'),\n",
       " ('gradient', 'NN'),\n",
       " ('vanishing', 'NN'),\n",
       " ('or', 'CC'),\n",
       " ('gradient', 'JJ'),\n",
       " ('explosion', 'NN'),\n",
       " ('problems', 'NNS'),\n",
       " ('and', 'CC'),\n",
       " ('it', 'PRP'),\n",
       " ('overcomes', 'VBZ'),\n",
       " ('the', 'DT'),\n",
       " ('drawbacks', 'NNS'),\n",
       " ('of', 'IN'),\n",
       " ('the', 'DT'),\n",
       " ('existing', 'VBG'),\n",
       " ('methods', 'NNS'),\n",
       " ('such', 'JJ'),\n",
       " ('as', 'IN'),\n",
       " ('rnn', 'NN'),\n",
       " ('and', 'CC'),\n",
       " ('lstm', 'NN'),\n",
       " ('.', '.'),\n",
       " ('the', 'DT'),\n",
       " ('transformer', 'NN'),\n",
       " ('is', 'VBZ'),\n",
       " ('executed', 'VBN'),\n",
       " ('with', 'IN'),\n",
       " ('an', 'DT'),\n",
       " ('encoder-decoder', 'JJ'),\n",
       " ('mechanism', 'NN'),\n",
       " ('and', 'CC'),\n",
       " ('the', 'DT'),\n",
       " ('original', 'JJ'),\n",
       " ('article', 'NN'),\n",
       " ('of', 'IN'),\n",
       " ('transformers', 'NNS'),\n",
       " ('#', '#'),\n",
       " ('“', 'JJ'),\n",
       " ('attention', 'NN'),\n",
       " ('all', 'DT'),\n",
       " ('you', 'PRP'),\n",
       " ('need', 'VBP'),\n",
       " ('”', 'NNS'),\n",
       " ('.', '.')]"
      ]
     },
     "execution_count": 31,
     "metadata": {},
     "output_type": "execute_result"
    }
   ],
   "source": [
    "from nltk import pos_tag\n",
    "stop=[nostop for nostop in pos_tag(word_tokenize(text))]\n",
    "stop"
   ]
  },
  {
   "cell_type": "markdown",
   "id": "8bef26d3",
   "metadata": {},
   "source": [
    "### Named Entity Recognization"
   ]
  },
  {
   "cell_type": "code",
   "execution_count": 53,
   "id": "d8c4a258",
   "metadata": {},
   "outputs": [
    {
     "name": "stdout",
     "output_type": "stream",
     "text": [
      "('transformer', 'NN')\n",
      "('is', 'VBZ')\n",
      "('an', 'DT')\n",
      "('exceptional', 'JJ')\n",
      "('innovation', 'NN')\n",
      "('in', 'IN')\n",
      "('the', 'DT')\n",
      "('field', 'NN')\n",
      "('of', 'IN')\n",
      "('deep', 'JJ')\n",
      "('learning', 'NN')\n",
      "(',', ',')\n",
      "('contributed', 'VBN')\n",
      "('by', 'IN')\n",
      "('ashish', 'JJ')\n",
      "('vaswani', 'NNS')\n",
      "('et', 'VBP')\n",
      "('al', 'NN')\n",
      "('.', '.')\n",
      "('(', '(')\n",
      "('2017', 'CD')\n",
      "(')', ')')\n",
      "(',', ',')\n",
      "('google', 'NN')\n",
      "('.', '.')\n",
      "('the', 'DT')\n",
      "('transformer', 'NN')\n",
      "('is', 'VBZ')\n",
      "('the', 'DT')\n",
      "('most', 'RBS')\n",
      "('influential', 'JJ')\n",
      "('neural', 'JJ')\n",
      "('network', 'NN')\n",
      "('model', 'NN')\n",
      "('that', 'WDT')\n",
      "('has', 'VBZ')\n",
      "('shown', 'VBN')\n",
      "('outstanding', 'JJ')\n",
      "('performance', 'NN')\n",
      "('on', 'IN')\n",
      "('various', 'JJ')\n",
      "('nlp', 'JJ')\n",
      "('tasks', 'NNS')\n",
      "('including', 'VBG')\n",
      "('machine', 'NN')\n",
      "('reading', 'NN')\n",
      "('comprehension', 'NN')\n",
      "(',', ',')\n",
      "('machine', 'NN')\n",
      "('translation', 'NN')\n",
      "('and', 'CC')\n",
      "('sentence', 'NN')\n",
      "('classification', 'NN')\n",
      "('.', '.')\n",
      "('attention', 'NN')\n",
      "('mechanism', 'NN')\n",
      "('and', 'CC')\n",
      "('parallelization', 'NN')\n",
      "('are', 'VBP')\n",
      "('the', 'DT')\n",
      "('prominent', 'JJ')\n",
      "('features', 'NNS')\n",
      "('in', 'IN')\n",
      "('the', 'DT')\n",
      "('transformers', 'NNS')\n",
      "('.', '.')\n",
      "('consequently', 'RB')\n",
      "(',', ',')\n",
      "('it', 'PRP')\n",
      "('can', 'MD')\n",
      "('facilitate', 'VB')\n",
      "('long-range', 'JJ')\n",
      "('dependencies', 'NNS')\n",
      "('without', 'IN')\n",
      "('any', 'DT')\n",
      "('gradient', 'NN')\n",
      "('vanishing', 'NN')\n",
      "('or', 'CC')\n",
      "('gradient', 'JJ')\n",
      "('explosion', 'NN')\n",
      "('problems', 'NNS')\n",
      "('and', 'CC')\n",
      "('it', 'PRP')\n",
      "('overcomes', 'VBZ')\n",
      "('the', 'DT')\n",
      "('drawbacks', 'NNS')\n",
      "('of', 'IN')\n",
      "('the', 'DT')\n",
      "('existing', 'VBG')\n",
      "('methods', 'NNS')\n",
      "('such', 'JJ')\n",
      "('as', 'IN')\n",
      "('rnn', 'NN')\n",
      "('and', 'CC')\n",
      "('lstm', 'NN')\n",
      "('.', '.')\n",
      "('the', 'DT')\n",
      "('transformer', 'NN')\n",
      "('is', 'VBZ')\n",
      "('executed', 'VBN')\n",
      "('with', 'IN')\n",
      "('an', 'DT')\n",
      "('encoder-decoder', 'JJ')\n",
      "('mechanism', 'NN')\n",
      "('and', 'CC')\n",
      "('the', 'DT')\n",
      "('original', 'JJ')\n",
      "('article', 'NN')\n",
      "('of', 'IN')\n",
      "('transformers', 'NNS')\n",
      "('#', '#')\n",
      "('“', 'JJ')\n",
      "('attention', 'NN')\n",
      "('all', 'DT')\n",
      "('you', 'PRP')\n",
      "('need', 'VBP')\n",
      "('”', 'NNS')\n",
      "('.', '.')\n"
     ]
    }
   ],
   "source": [
    "from nltk.chunk import ne_chunk\n",
    "entities = ne_chunk(stop)\n",
    "for entity in entities:\n",
    "    print(entity)"
   ]
  },
  {
   "cell_type": "code",
   "execution_count": 54,
   "id": "601f4828",
   "metadata": {},
   "outputs": [
    {
     "data": {
      "text/plain": [
       "'Mickey Mouse, a cheerful and optimistic mouse clad in red shorts and yellow shoes, is the iconic mascot of The Walt Disney Company. Debuting in 1928, this spunky character has charmed audiences for generations with his adventures and can-do attitude.'"
      ]
     },
     "execution_count": 54,
     "metadata": {},
     "output_type": "execute_result"
    }
   ],
   "source": [
    "text1='Mickey Mouse, a cheerful and optimistic mouse clad in red shorts and yellow shoes, is the iconic mascot of The Walt Disney Company. Debuting in 1928, this spunky character has charmed audiences for generations with his adventures and can-do attitude.'\n",
    "text1"
   ]
  },
  {
   "cell_type": "markdown",
   "id": "75279ce2",
   "metadata": {},
   "source": [
    "### Implementing Word2vec"
   ]
  },
  {
   "cell_type": "code",
   "execution_count": 68,
   "id": "f0e9d244",
   "metadata": {},
   "outputs": [],
   "source": [
    "from gensim.models import Word2Vec\n",
    "model= Word2Vec(nostop, min_count=1, vector_size=100, window=5)\n",
    "model1=Word2Vec(nostop, min_count=1, vector_size=100, window=5, sg=1)"
   ]
  },
  {
   "cell_type": "markdown",
   "id": "c41f80ff",
   "metadata": {},
   "source": [
    "### Visualizig the vector"
   ]
  },
  {
   "cell_type": "code",
   "execution_count": 95,
   "id": "133a30b9",
   "metadata": {},
   "outputs": [
    {
     "data": {
      "image/png": "[encoded data removed]",
      "text/plain": [
       "<Figure size 640x480 with 1 Axes>"
      ]
     },
     "metadata": {},
     "output_type": "display_data"
    },
    {
     "data": {
      "text/plain": [
       "<matplotlib.collections.PathCollection at 0x177354df0>"
      ]
     },
     "execution_count": 95,
     "metadata": {},
     "output_type": "execute_result"
    },
    {
     "data": {
      "image/png": "[encoded data removed]",
      "text/plain": [
       "<Figure size 640x480 with 1 Axes>"
      ]
     },
     "metadata": {},
     "output_type": "display_data"
    }
   ],
   "source": [
    "vec=model.wv.vectors_for_all(nostop)\n",
    "plt.title('CBOW')\n",
    "plt.scatter(vec.vectors[0],vec.vectors[1])\n",
    "plt.show()\n",
    "plt.title('Skip-gram')\n",
    "vec1=model1.wv.vectors_for_all(nostop)\n",
    "plt.scatter(vec1.vectors[0],vec1.vectors[1])"
   ]
  },
  {
   "cell_type": "markdown",
   "id": "1f878fb0",
   "metadata": {},
   "source": [
    "### CBOW predicts a target word based on its context and Skip-gram is the opposite that is it predicts context words from target"
   ]
  }
 ],
 "metadata": {
  "kernelspec": {
   "display_name": "Python 3 (ipykernel)",
   "language": "python",
   "name": "python3"
  },
  "language_info": {
   "codemirror_mode": {
    "name": "ipython",
    "version": 3
   },
   "file_extension": ".py",
   "mimetype": "text/x-python",
   "name": "python",
   "nbconvert_exporter": "python",
   "pygments_lexer": "ipython3",
   "version": "3.10.9"
  }
 },
 "nbformat": 4,
 "nbformat_minor": 5
}
