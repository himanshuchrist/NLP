{
 "cells": [
  {
   "cell_type": "markdown",
   "id": "559fb33a-2113-4f75-86b7-948d2f889c27",
   "metadata": {},
   "source": [
    "## Edit Distance"
   ]
  },
  {
   "cell_type": "code",
   "execution_count": 3,
   "id": "22a2bea6-7f7c-4b28-87b1-089501a474b7",
   "metadata": {},
   "outputs": [],
   "source": [
    "def editDistance(str1, str2, m, n):\n",
    "    if m == 0:\n",
    "        return n\n",
    "    if n == 0:\n",
    "        return m\n",
    "\n",
    "    # If last characters of two strings are same, nothing\n",
    "    # much to do. Ignore last characters and get count for\n",
    "    # remaining strings.\n",
    "    if str1[m-1] == str2[n-1]:\n",
    "        return editDistance(str1, str2, m-1, n-1)\n",
    "\n",
    "    # If last characters are not same, consider all three\n",
    "    # operations on last character of first string, recursively\n",
    "    # compute minimum cost for all three operations and take\n",
    "    # minimum of three values.\n",
    "    return 1 + min(editDistance(str1, str2, m, n-1),    # Insert\n",
    "                   editDistance(str1, str2, m-1, n),    # Remove\n",
    "                   editDistance(str1, str2, m-1, n-1)    # Replace\n",
    "                   )\n"
   ]
  },
  {
   "cell_type": "code",
   "execution_count": 4,
   "id": "910422ac-0941-4d65-bf55-37bfacec763a",
   "metadata": {},
   "outputs": [
    {
     "name": "stdin",
     "output_type": "stream",
     "text": [
      "Enter First String: himanshu\n",
      "Enter Second String: himani\n"
     ]
    },
    {
     "name": "stdout",
     "output_type": "stream",
     "text": [
      "3\n"
     ]
    }
   ],
   "source": [
    "str1=input(\"Enter First String:\")\n",
    "str2=input(\"Enter Second String:\")\n",
    "print(editDistance(str1, str2, len(str1), len(str2)))"
   ]
  },
  {
   "cell_type": "code",
   "execution_count": null,
   "id": "184a5b60-3052-4893-8011-b1f16b512919",
   "metadata": {},
   "outputs": [],
   "source": []
  }
 ],
 "metadata": {
  "kernelspec": {
   "display_name": "Python 3 (ipykernel)",
   "language": "python",
   "name": "python3"
  },
  "language_info": {
   "codemirror_mode": {
    "name": "ipython",
    "version": 3
   },
   "file_extension": ".py",
   "mimetype": "text/x-python",
   "name": "python",
   "nbconvert_exporter": "python",
   "pygments_lexer": "ipython3",
   "version": "3.11.7"
  }
 },
 "nbformat": 4,
 "nbformat_minor": 5
}
