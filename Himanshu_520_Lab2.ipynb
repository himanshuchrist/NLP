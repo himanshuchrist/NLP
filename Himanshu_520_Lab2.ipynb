{
 "cells": [
  {
   "cell_type": "markdown",
   "id": "459c71ff",
   "metadata": {},
   "source": [
    "### Write a paragraph based on your interested Domain and that should incorporate the special characters, punctuations, stop words, negation (don’t), Email Id, Phone Numberand Date of birth (27-March -2000)."
   ]
  },
  {
   "cell_type": "code",
   "execution_count": 80,
   "id": "5f612b37",
   "metadata": {},
   "outputs": [
    {
     "data": {
      "text/plain": [
       "\"Hello everyone, my name is Himanshu Gulechha. I was born on 17-January-2000. My E-mail ID is gulechhah@gmail.com and my phone number is 8762531515. I won't be going for the air show happening on 12-June-2024 ( I don't know to how to fly a plane ) ✈️😎 ❌\""
      ]
     },
     "execution_count": 80,
     "metadata": {},
     "output_type": "execute_result"
    }
   ],
   "source": [
    "text=\"Hello everyone, my name is Himanshu Gulechha. I was born on 17-January-2000. My E-mail ID is gulechhah@gmail.com and my phone number is 8762531515. I won't be going for the air show happening on 12-June-2024 ( I don't know to how to fly a plane ) ✈️😎 ❌\"\n",
    "text"
   ]
  },
  {
   "cell_type": "markdown",
   "id": "98872a5c",
   "metadata": {},
   "source": [
    "### preprocessing text by converting to lower case and removing punctuations"
   ]
  },
  {
   "cell_type": "code",
   "execution_count": 81,
   "id": "74fbb6ea",
   "metadata": {},
   "outputs": [
    {
     "data": {
      "text/plain": [
       "\"hello everyone, my name is himanshu gulechha. i was born on 17-january-2000. my e-mail id is gulechhah@gmail.com and my phone number is 8762531515. i won't be going for the air show happening on 12-june-2024 ( i don't know to how to fly a plane ) ✈️😎 ❌\""
      ]
     },
     "execution_count": 81,
     "metadata": {},
     "output_type": "execute_result"
    }
   ],
   "source": [
    "text=text.lower()\n",
    "text"
   ]
  },
  {
   "cell_type": "code",
   "execution_count": 82,
   "id": "47380bc4",
   "metadata": {},
   "outputs": [
    {
     "name": "stdout",
     "output_type": "stream",
     "text": [
      "hello everyone my name is himanshu gulechha i was born on 17january2000 my email id is gulechhahgmailcom and my phone number is 8762531515 i wont be going for the air show happening on 12june2024  i dont know to how to fly a plane   \n"
     ]
    }
   ],
   "source": [
    "import re\n",
    "res = re.sub(r'[^\\w\\s]', '', text)\n",
    "print(res)"
   ]
  },
  {
   "cell_type": "markdown",
   "id": "0330b470",
   "metadata": {},
   "source": [
    "### Counting the number of unique tokens in the text."
   ]
  },
  {
   "cell_type": "code",
   "execution_count": 83,
   "id": "fb083a58",
   "metadata": {},
   "outputs": [
    {
     "data": {
      "text/plain": [
       "35"
      ]
     },
     "execution_count": 83,
     "metadata": {},
     "output_type": "execute_result"
    }
   ],
   "source": [
    "from nltk.tokenize import word_tokenize\n",
    "res=word_tokenize(res)\n",
    "unique=set(res)\n",
    "len(unique)"
   ]
  },
  {
   "cell_type": "markdown",
   "id": "1bd8a527",
   "metadata": {},
   "source": [
    "### Counting the number of punctuation characters and removing the same"
   ]
  },
  {
   "cell_type": "code",
   "execution_count": 84,
   "id": "ee9caffe",
   "metadata": {},
   "outputs": [
    {
     "name": "stdout",
     "output_type": "stream",
     "text": [
      "15\n"
     ]
    }
   ],
   "source": [
    "from string import punctuation\n",
    "count=0\n",
    "for i in text:\n",
    "    if i in punctuation:\n",
    "        count+=1\n",
    "print(count)"
   ]
  },
  {
   "cell_type": "code",
   "execution_count": 85,
   "id": "e1eba043",
   "metadata": {},
   "outputs": [
    {
     "name": "stdout",
     "output_type": "stream",
     "text": [
      "hello everyone my name is himanshu gulechha i was born on 17january2000 my email id is gulechhahgmailcom and my phone number is 8762531515 i wont be going for the air show happening on 12june2024  i dont know to how to fly a plane   \n"
     ]
    }
   ],
   "source": [
    "res = re.sub(r'[^\\w\\s]', '', text)\n",
    "print(res)"
   ]
  },
  {
   "cell_type": "markdown",
   "id": "be7c0304",
   "metadata": {},
   "source": [
    "### Plotting the distribution of stopwords used in the text using barplot."
   ]
  },
  {
   "cell_type": "code",
   "execution_count": 146,
   "id": "01fe8a7d",
   "metadata": {},
   "outputs": [
    {
     "data": {
      "image/png": "[encoded data removed]",
      "text/plain": [
       "<Figure size 800x500 with 1 Axes>"
      ]
     },
     "metadata": {},
     "output_type": "display_data"
    }
   ],
   "source": [
    "from nltk.corpus import stopwords\n",
    "import matplotlib.pyplot as plt\n",
    "stop=[]\n",
    "for i in text.split(\" \"):\n",
    "    if i in stopwords.words('english'):\n",
    "        stop.append(i)\n",
    "unique=list(set(stop))\n",
    "plt.figure(figsize=(8,5))\n",
    "counts = [stop.count(value) for value in unique]\n",
    "barcontainer = plt.bar(unique,counts)"
   ]
  },
  {
   "cell_type": "markdown",
   "id": "8a01f7fa",
   "metadata": {},
   "source": [
    "### Removing the stopwords from the text."
   ]
  },
  {
   "cell_type": "code",
   "execution_count": 87,
   "id": "c0a24ea7",
   "metadata": {},
   "outputs": [
    {
     "name": "stdout",
     "output_type": "stream",
     "text": [
      "['hello', 'everyone,', 'name', 'himanshu', 'gulechha.', 'born', '17-january-2000.', 'e-mail', 'id', 'gulechhah@gmail.com', 'phone', 'number', '8762531515.', 'going', 'air', 'show', 'happening', '12-june-2024', '(', 'know', 'fly', 'plane', ')', '✈️😎', '❌']\n"
     ]
    }
   ],
   "source": [
    "filtered_sentence = [w for w in text.split() if not w.lower() in set(stopwords.words('english'))]\n",
    "print(filtered_sentence)"
   ]
  },
  {
   "cell_type": "markdown",
   "id": "532f60fd",
   "metadata": {},
   "source": [
    "### Plotting the distribution of each POS Tag using a barplot."
   ]
  },
  {
   "cell_type": "code",
   "execution_count": 145,
   "id": "b0d39e35",
   "metadata": {},
   "outputs": [
    {
     "data": {
      "image/png": "[encoded data removed]",
      "text/plain": [
       "<Figure size 1000x500 with 1 Axes>"
      ]
     },
     "metadata": {},
     "output_type": "display_data"
    }
   ],
   "source": [
    "from nltk import pos_tag\n",
    "stop=[word[1] for word in pos_tag(word_tokenize(text))]\n",
    "unique=list(set(stop))\n",
    "plt.figure(figsize=(10,5))\n",
    "counts = [stop.count(value) for value in unique]\n",
    "barcontainer = plt.bar(unique,counts)"
   ]
  },
  {
   "cell_type": "markdown",
   "id": "26e2f30e",
   "metadata": {},
   "source": [
    "### Determining the number of unique lemma available in the text."
   ]
  },
  {
   "cell_type": "code",
   "execution_count": 104,
   "id": "dad89154",
   "metadata": {},
   "outputs": [
    {
     "data": {
      "text/plain": [
       "37"
      ]
     },
     "execution_count": 104,
     "metadata": {},
     "output_type": "execute_result"
    }
   ],
   "source": [
    "from nltk.stem import WordNetLemmatizer\n",
    "lemmatizer = WordNetLemmatizer()\n",
    "lemmas=set()\n",
    "for i in text.split():\n",
    "    lemmas.add(lemmatizer.lemmatize(i,pos='v'))\n",
    "len(lemmas)"
   ]
  },
  {
   "cell_type": "markdown",
   "id": "f8dc3474",
   "metadata": {},
   "source": [
    "### Plotting the frequency distribution of words in the text. Displaying only the top 5 (most occurring) tokens in the chart."
   ]
  },
  {
   "cell_type": "code",
   "execution_count": 163,
   "id": "94a99ba2",
   "metadata": {},
   "outputs": [
    {
     "data": {
      "text/plain": [
       "<BarContainer object of 5 artists>"
      ]
     },
     "execution_count": 163,
     "metadata": {},
     "output_type": "execute_result"
    },
    {
     "data": {
      "image/png": "[encoded data removed]",
      "text/plain": [
       "<Figure size 1000x500 with 1 Axes>"
      ]
     },
     "metadata": {},
     "output_type": "display_data"
    }
   ],
   "source": [
    "words=list(set(word for word in res.split()))\n",
    "plt.figure(figsize=(10,5))\n",
    "counts = [res.split().count(value) for value in words]\n",
    "data={}\n",
    "for key in words:\n",
    "    for value in counts:\n",
    "        data[key] = value\n",
    "        counts.remove(value)\n",
    "        break\n",
    "data=dict(sorted(data.items(), key=lambda item: item[1], reverse=True))\n",
    "plt.bar(list(data.keys())[:5],list(data.values())[:5])"
   ]
  },
  {
   "cell_type": "markdown",
   "id": "f0c4bfd5",
   "metadata": {},
   "source": [
    "### Finding the number of unique bigrams, trigrams and quadgrams (n=4) in the corpus"
   ]
  },
  {
   "cell_type": "code",
   "execution_count": 130,
   "id": "da702397",
   "metadata": {},
   "outputs": [
    {
     "data": {
      "text/plain": [
       "46"
      ]
     },
     "execution_count": 130,
     "metadata": {},
     "output_type": "execute_result"
    }
   ],
   "source": [
    "from nltk.util import ngrams\n",
    "n = 2\n",
    "bi_total=set()\n",
    "bigrams = ngrams(text.split(), n)\n",
    "for item in bigrams:\n",
    "    bi_total.add(item)\n",
    "len(bi_total)"
   ]
  },
  {
   "cell_type": "code",
   "execution_count": 131,
   "id": "545d10ef",
   "metadata": {},
   "outputs": [
    {
     "data": {
      "text/plain": [
       "45"
      ]
     },
     "execution_count": 131,
     "metadata": {},
     "output_type": "execute_result"
    }
   ],
   "source": [
    "n = 3\n",
    "tri_total=set()\n",
    "trigrams = ngrams(text.split(), n)\n",
    "for item in trigrams:\n",
    "    tri_total.add(item)\n",
    "len(tri_total)"
   ]
  },
  {
   "cell_type": "code",
   "execution_count": 132,
   "id": "8b5a91c9",
   "metadata": {},
   "outputs": [
    {
     "data": {
      "text/plain": [
       "44"
      ]
     },
     "execution_count": 132,
     "metadata": {},
     "output_type": "execute_result"
    }
   ],
   "source": [
    "n = 4\n",
    "quad_total=set()\n",
    "quadgrams = ngrams(text.split(), n)\n",
    "for item in quadgrams:\n",
    "    quad_total.add(item)\n",
    "len(quad_total)"
   ]
  },
  {
   "cell_type": "markdown",
   "id": "31231caf",
   "metadata": {},
   "source": [
    "### Finding all dates and converting them to the DD-MM-YYYY format."
   ]
  },
  {
   "cell_type": "code",
   "execution_count": 181,
   "id": "001047a9",
   "metadata": {},
   "outputs": [
    {
     "name": "stdout",
     "output_type": "stream",
     "text": [
      "hello everyone, my name is himanshu gulechha. i was born on 17-01-2000. my e-mail id is gulechhah@gmail.com and my phone number is 8762531515. i won't be going for the air show happening on 12-06-2024 ( i don't know to how to fly a plane ) ✈️😎 ❌\n"
     ]
    }
   ],
   "source": [
    "from datetime import datetime\n",
    "date_pattern = r'\\b(\\d{1,2})-(january|february|march|april|may|june|july|august|september|october|november|december)-(\\d{4})\\b'\n",
    "def replace_date(match):\n",
    "    day, month, year = match.groups()\n",
    "    dt = datetime.strptime(f\"{day}-{month}-{year}\", \"%d-%B-%Y\")\n",
    "    return dt.strftime(\"%d-%m-%Y\")\n",
    "formatted_text = re.sub(date_pattern, replace_date, text)\n",
    "print(formatted_text)"
   ]
  },
  {
   "cell_type": "markdown",
   "id": "34d5c11d",
   "metadata": {},
   "source": [
    "### Finding different values of year occurring in the text."
   ]
  },
  {
   "cell_type": "code",
   "execution_count": 187,
   "id": "6995af55",
   "metadata": {},
   "outputs": [
    {
     "data": {
      "text/plain": [
       "['2000', '2024']"
      ]
     },
     "execution_count": 187,
     "metadata": {},
     "output_type": "execute_result"
    }
   ],
   "source": [
    "year_pattern = r'\\b\\d{4}\\b'\n",
    "years = re.findall(year_pattern, text)\n",
    "years"
   ]
  },
  {
   "cell_type": "markdown",
   "id": "1624f23f",
   "metadata": {},
   "source": [
    "### Determining whether the text contains any phone numbers in it."
   ]
  },
  {
   "cell_type": "code",
   "execution_count": 188,
   "id": "a85ac39b",
   "metadata": {},
   "outputs": [
    {
     "data": {
      "text/plain": [
       "['8762531515']"
      ]
     },
     "execution_count": 188,
     "metadata": {},
     "output_type": "execute_result"
    }
   ],
   "source": [
    "phone_pattern = r'\\b\\d{10}\\b'\n",
    "phone_numbers = re.findall(phone_pattern, text)\n",
    "phone_numbers\n"
   ]
  }
 ],
 "metadata": {
  "kernelspec": {
   "display_name": "Python 3 (ipykernel)",
   "language": "python",
   "name": "python3"
  },
  "language_info": {
   "codemirror_mode": {
    "name": "ipython",
    "version": 3
   },
   "file_extension": ".py",
   "mimetype": "text/x-python",
   "name": "python",
   "nbconvert_exporter": "python",
   "pygments_lexer": "ipython3",
   "version": "3.10.9"
  }
 },
 "nbformat": 4,
 "nbformat_minor": 5
}
