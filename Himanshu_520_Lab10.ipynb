{
 "cells": [
  {
   "cell_type": "markdown",
   "id": "c417a40c-690c-4a4d-935e-b3d073da5247",
   "metadata": {},
   "source": [
    "## Context based Question Answering System"
   ]
  },
  {
   "cell_type": "markdown",
   "id": "4700f281-546f-43a4-8129-3d7cb7b9e215",
   "metadata": {},
   "source": [
    "### Loading the context and question"
   ]
  },
  {
   "cell_type": "code",
   "execution_count": 34,
   "id": "872e0ac7-dbae-4772-af5b-414dd1e131e8",
   "metadata": {},
   "outputs": [],
   "source": [
    "contexts = \"CHRIST (Deemed to be University) was born out of the educational vision of St Kuriakose Elias Chavara, an educationalist and social reformer of the nineteenth century in South India. He founded the first Catholic indigenous congregation, Carmelites of Mary Immaculate (CMI), in 1831 which administers CHRIST (Deemed to be University). CHRIST (Deemed to be University) was established as Christ College in 1969. It undertook path- breaking initiatives in Indian higher education with the introduction of innovative and modern curricula, insistence on academic discipline, imparting of Holistic Education and adoption of global higher education practices with the support of creative and dedicated staff.\""
   ]
  },
  {
   "cell_type": "markdown",
   "id": "20f2701b-f5e9-4272-8e93-da39d86b3f38",
   "metadata": {},
   "source": [
    "### Preprocessing"
   ]
  },
  {
   "cell_type": "code",
   "execution_count": 35,
   "id": "8324538a-279c-470d-8f34-f6f663a6fb96",
   "metadata": {},
   "outputs": [],
   "source": [
    "contexts=contexts.lower()"
   ]
  },
  {
   "cell_type": "code",
   "execution_count": 36,
   "id": "a535c948-c6f5-48c3-8be0-21b7d70fdb2e",
   "metadata": {},
   "outputs": [],
   "source": [
    "import string\n",
    "for punctuation in string.punctuation:\n",
    "    contexts=contexts.replace(punctuation, '')"
   ]
  },
  {
   "cell_type": "markdown",
   "id": "22c9ab4e-2dd5-4063-8b31-d7678d4a592f",
   "metadata": {},
   "source": [
    "### Name Entity Recognition"
   ]
  },
  {
   "cell_type": "code",
   "execution_count": 31,
   "id": "7cb3ee9c-3b02-45db-ba68-0456614226d0",
   "metadata": {},
   "outputs": [],
   "source": [
    "import spacy\n",
    "nlp = spacy.load(\"en_core_web_sm\")\n",
    "tokenized_sentences = []\n",
    "ner_labels = []\n",
    "\n",
    "for context in contexts:\n",
    "    doc = nlp(context)\n",
    "    tokenized_sentence = []\n",
    "    labels = []\n",
    "    for token in doc:\n",
    "        tokenized_sentence.append(token.text)\n",
    "        labels.append(token.ent_iob_ + \"-\" + token.ent_type_ if token.ent_iob_ != \"O\" else \"O\")\n",
    "    tokenized_sentences.append(tokenized_sentence)\n",
    "    ner_labels.append(labels)\n",
    "\n",
    "label_to_index = {\n",
    "    \"O\": 0,\n",
    "    \"B-PER\": 1, \"I-PER\": 2,\n",
    "    \"B-ORG\": 3, \"I-ORG\": 4,\n",
    "    \"B-DATE\": 5, \"I-DATE\": 6,\n",
    "    \"B-GPE\": 7, \"I-GPE\": 8,\n",
    "    \"B-ORDINAL\": 9, \"B-NORP\":10,\n",
    "    \"B-CARDINAL\":11\n",
    "}\n",
    "indexed_labels = [[label_to_index[label] for label in labels] for labels in ner_labels]"
   ]
  },
  {
   "cell_type": "markdown",
   "id": "5d670940-c37d-4e62-b2bd-98e10ec818d0",
   "metadata": {},
   "source": [
    "### Padding and Tokenizing"
   ]
  },
  {
   "cell_type": "code",
   "execution_count": 32,
   "id": "0278906c-8747-4ff6-a23d-189dade43ffc",
   "metadata": {},
   "outputs": [],
   "source": [
    "from tensorflow.keras.preprocessing.text import Tokenizer\n",
    "from tensorflow.keras.preprocessing.sequence import pad_sequences\n",
    "tokenizer = Tokenizer()\n",
    "tokenizer.fit_on_texts(tokenized_sentences)\n",
    "word_index = tokenizer.word_index\n",
    "sequences = tokenizer.texts_to_sequences(tokenized_sentences)\n",
    "\n",
    "# Padding sequences\n",
    "max_sequence_length = max(len(seq) for seq in sequences)\n",
    "padded_sequences = pad_sequences(sequences, maxlen=max_sequence_length)"
   ]
  },
  {
   "cell_type": "markdown",
   "id": "fbb451d0-6c52-4d6c-9d4c-8d7541050e47",
   "metadata": {},
   "source": [
    "### One hot encoding"
   ]
  },
  {
   "cell_type": "code",
   "execution_count": 33,
   "id": "82381825-a9d2-416f-a66a-ebb5730111b7",
   "metadata": {},
   "outputs": [],
   "source": [
    "num_classes = len(label_to_index)\n",
    "labels_one_hot = np.eye(num_classes)[padded_labels]"
   ]
  },
  {
   "cell_type": "markdown",
   "id": "43be09f7-bf05-483e-b35f-7a1fd0a76590",
   "metadata": {},
   "source": [
    "### Building LSTM model"
   ]
  },
  {
   "cell_type": "code",
   "execution_count": 19,
   "id": "8a706b5d-b15f-4026-b8f3-da68a8fbd075",
   "metadata": {},
   "outputs": [
    {
     "name": "stdout",
     "output_type": "stream",
     "text": [
      "Epoch 1/10\n",
      "1/1 [==============================] - 1s 602ms/step - loss: 2.3979 - accuracy: 0.1515\n",
      "Epoch 2/10\n",
      "1/1 [==============================] - 0s 10ms/step - loss: 2.3807 - accuracy: 0.7475\n",
      "Epoch 3/10\n",
      "1/1 [==============================] - 0s 10ms/step - loss: 2.3631 - accuracy: 0.7879\n",
      "Epoch 4/10\n",
      "1/1 [==============================] - 0s 8ms/step - loss: 2.3438 - accuracy: 0.7879\n",
      "Epoch 5/10\n",
      "1/1 [==============================] - 0s 8ms/step - loss: 2.3216 - accuracy: 0.7879\n",
      "Epoch 6/10\n",
      "1/1 [==============================] - 0s 8ms/step - loss: 2.2949 - accuracy: 0.7879\n",
      "Epoch 7/10\n",
      "1/1 [==============================] - 0s 8ms/step - loss: 2.2616 - accuracy: 0.7879\n",
      "Epoch 8/10\n",
      "1/1 [==============================] - 0s 8ms/step - loss: 2.2189 - accuracy: 0.7879\n",
      "Epoch 9/10\n",
      "1/1 [==============================] - 0s 8ms/step - loss: 2.1625 - accuracy: 0.7879\n",
      "Epoch 10/10\n",
      "1/1 [==============================] - 0s 8ms/step - loss: 2.0857 - accuracy: 0.7879\n"
     ]
    },
    {
     "data": {
      "text/plain": [
       "<keras.src.callbacks.History at 0x31c7ab5d0>"
      ]
     },
     "execution_count": 19,
     "metadata": {},
     "output_type": "execute_result"
    }
   ],
   "source": [
    "from tensorflow.keras.models import Sequential\n",
    "from tensorflow.keras.layers import LSTM, Embedding, Dense\n",
    "\n",
    "embedding_dim = 50\n",
    "vocab_size = len(word_index) + 1\n",
    "model = Sequential([\n",
    "    Embedding(input_dim=vocab_size, output_dim=embedding_dim, input_length=max_sequence_length),\n",
    "    LSTM(100, return_sequences=True),\n",
    "    Dense(num_classes, activation='softmax')\n",
    "])\n",
    "\n",
    "model.compile(loss='categorical_crossentropy', optimizer='adam', metrics=['accuracy'])\n",
    "\n",
    "model.fit(padded_sequences, labels_one_hot, epochs=10, verbose=1)"
   ]
  },
  {
   "cell_type": "markdown",
   "id": "8f1d8d04-60e4-4932-bed0-5376897b71ee",
   "metadata": {},
   "source": [
    "### Predicting the answer"
   ]
  },
  {
   "cell_type": "code",
   "execution_count": 25,
   "id": "ba29182a-7bb7-4f45-a076-0b85e85b145e",
   "metadata": {},
   "outputs": [
    {
     "name": "stdout",
     "output_type": "stream",
     "text": [
      " 1969\n"
     ]
    }
   ],
   "source": [
    "user_input = \"What year was CHRIST university established?\"\n",
    "\n",
    "user_input_tokens = user_input.split()\n",
    "user_input_sequences = tokenizer.texts_to_sequences([user_input_tokens])\n",
    "user_input_padded = pad_sequences(user_input_sequences, maxlen=max_sequence_length)\n",
    "\n",
    "predicted_labels_one_hot = model.predict(user_input_padded)\n",
    "predicted_labels_indices = np.argmax(predicted_labels_one_hot, axis=-1)\n",
    "index_to_label = {v: k for k, v in label_to_index.items()}\n",
    "predicted_labels = [index_to_label[idx] for idx in predicted_labels_indices[0]]\n",
    "\n",
    "answer = \"\"\n",
    "for token, label in zip(user_input_tokens, predicted_labels):\n",
    "    if label != 'O':\n",
    "        answer += token + \" \"\n",
    "corrected_answer = ''\n",
    "\n",
    "for word in answer.split():\n",
    "\n",
    "    #If it's a subword token\n",
    "    if word[0:2] == '##':\n",
    "        corrected_answer += word[2:]\n",
    "    else:\n",
    "        corrected_answer += ' ' + word\n",
    "\n",
    "print(corrected_answer)"
   ]
  }
 ],
 "metadata": {
  "kernelspec": {
   "display_name": "Python 3 (ipykernel)",
   "language": "python",
   "name": "python3"
  },
  "language_info": {
   "codemirror_mode": {
    "name": "ipython",
    "version": 3
   },
   "file_extension": ".py",
   "mimetype": "text/x-python",
   "name": "python",
   "nbconvert_exporter": "python",
   "pygments_lexer": "ipython3",
   "version": "3.11.7"
  }
 },
 "nbformat": 4,
 "nbformat_minor": 5
}
