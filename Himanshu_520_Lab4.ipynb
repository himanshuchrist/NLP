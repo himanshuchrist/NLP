{
 "cells": [
  {
   "cell_type": "markdown",
   "id": "c481354d",
   "metadata": {},
   "source": [
    "## Write a program to get synonyms from WordNet."
   ]
  },
  {
   "cell_type": "code",
   "execution_count": 10,
   "id": "437f7515",
   "metadata": {},
   "outputs": [],
   "source": [
    "words=['bear','set','square','lead','burn']"
   ]
  },
  {
   "cell_type": "markdown",
   "id": "36c268f6",
   "metadata": {},
   "source": [
    "### Find the 3rd meaning of the word in the list."
   ]
  },
  {
   "cell_type": "code",
   "execution_count": 11,
   "id": "cb719b25",
   "metadata": {},
   "outputs": [
    {
     "name": "stdout",
     "output_type": "stream",
     "text": [
      "Meaning of bear is :have\n",
      "\n",
      "Meaning of set is :several exercises intended to be done in series\n",
      "\n",
      "Meaning of square is :an open area at the meeting of two or more streets\n",
      "\n",
      "Meaning of lead is :evidence pointing to a possible solution\n",
      "\n",
      "Meaning of burn is :an injury caused by exposure to heat or chemicals or radiation\n",
      "\n"
     ]
    }
   ],
   "source": [
    "from nltk.corpus import wordnet\n",
    "for i in words:\n",
    "    x=wordnet.synsets(i)\n",
    "    print(f'Meaning of {i} is :{x[2].definition()}\\n')"
   ]
  },
  {
   "cell_type": "markdown",
   "id": "028e35a2",
   "metadata": {},
   "source": [
    "### Extract the nouns of the word from the synonyms list."
   ]
  },
  {
   "cell_type": "code",
   "execution_count": 20,
   "id": "4a78effe",
   "metadata": {},
   "outputs": [
    {
     "name": "stdout",
     "output_type": "stream",
     "text": [
      "Nouns of bear are :[Synset('bear.n.01'), Synset('bear.n.02')]\n",
      "\n",
      "Nouns of set are :[Synset('set.n.01'), Synset('set.n.02'), Synset('set.n.03'), Synset('stage_set.n.01'), Synset('set.n.05'), Synset('bent.n.01'), Synset('set.n.07'), Synset('set.n.08'), Synset('hardening.n.02'), Synset('set.n.10'), Synset('set.n.11'), Synset('set.n.12'), Synset('set.n.13')]\n",
      "\n",
      "Nouns of square are :[Synset('square.n.01'), Synset('square.n.02'), Synset('public_square.n.01'), Synset('square.n.04'), Synset('square.n.05'), Synset('square.n.06'), Synset('square.n.07'), Synset('square.n.08')]\n",
      "\n",
      "Nouns of lead are :[Synset('lead.n.01'), Synset('lead.n.02'), Synset('lead.n.03'), Synset('lead.n.04'), Synset('lead.n.05'), Synset('lead.n.06'), Synset('lead.n.07'), Synset('star.n.04'), Synset('lead.n.09'), Synset('tip.n.03'), Synset('lead.n.11'), Synset('spark_advance.n.01'), Synset('leash.n.01'), Synset('lead.n.14'), Synset('lead.n.15'), Synset('jumper_cable.n.01'), Synset('lead.n.17')]\n",
      "\n",
      "Nouns of burn are :[Synset('burn.n.01'), Synset('tan.n.01'), Synset('burn.n.03'), Synset('burn.n.04'), Synset('burn.n.05')]\n",
      "\n"
     ]
    }
   ],
   "source": [
    "for i in words:\n",
    "    x=wordnet.synsets(i,pos=wordnet.NOUN)\n",
    "    print(f'Nouns of {i} are :{x}\\n')"
   ]
  },
  {
   "cell_type": "markdown",
   "id": "e7286c93",
   "metadata": {},
   "source": [
    "### Extract the verbs of the word from the synonyms list."
   ]
  },
  {
   "cell_type": "code",
   "execution_count": 21,
   "id": "435796c4",
   "metadata": {},
   "outputs": [
    {
     "name": "stdout",
     "output_type": "stream",
     "text": [
      "Verbs of bear are :[Synset('bear.v.01'), Synset('give_birth.v.01'), Synset('digest.v.03'), Synset('bear.v.04'), Synset('bear.v.05'), Synset('bear.v.06'), Synset('hold.v.11'), Synset('yield.v.10'), Synset('wear.v.02'), Synset('behave.v.02'), Synset('bear.v.11'), Synset('hold.v.14'), Synset('have_a_bun_in_the_oven.v.01')]\n",
      "\n",
      "Verbs of set are :[Synset('put.v.01'), Synset('determine.v.03'), Synset('specify.v.02'), Synset('set.v.04'), Synset('set.v.05'), Synset('set.v.06'), Synset('fix.v.12'), Synset('set.v.08'), Synset('set.v.09'), Synset('set.v.10'), Synset('arrange.v.06'), Synset('plant.v.01'), Synset('set.v.13'), Synset('jell.v.01'), Synset('typeset.v.01'), Synset('set.v.16'), Synset('set.v.17'), Synset('set.v.18'), Synset('sic.v.01'), Synset('place.v.11'), Synset('rig.v.04'), Synset('set_up.v.04'), Synset('adjust.v.01'), Synset('fructify.v.03'), Synset('dress.v.16')]\n",
      "\n",
      "Verbs of square are :[Synset('square.v.01'), Synset('square.v.02'), Synset('square.v.03'), Synset('square.v.04'), Synset('square.v.05'), Synset('square.v.06'), Synset('feather.v.03'), Synset('feather.v.04')]\n",
      "\n",
      "Verbs of lead are :[Synset('lead.v.01'), Synset('leave.v.07'), Synset('lead.v.03'), Synset('lead.v.04'), Synset('lead.v.05'), Synset('run.v.03'), Synset('head.v.02'), Synset('lead.v.08'), Synset('contribute.v.03'), Synset('conduct.v.02'), Synset('go.v.25'), Synset('precede.v.04'), Synset('run.v.23'), Synset('moderate.v.01')]\n",
      "\n",
      "Verbs of burn are :[Synset('burn.v.01'), Synset('burn.v.02'), Synset('burn.v.03'), Synset('bite.v.02'), Synset('burn.v.05'), Synset('burn.v.06'), Synset('burn.v.07'), Synset('burn.v.08'), Synset('burn.v.09'), Synset('burn.v.10'), Synset('cauterize.v.01'), Synset('sunburn.v.01'), Synset('cut.v.21'), Synset('burn_off.v.01'), Synset('burn.v.15')]\n",
      "\n"
     ]
    }
   ],
   "source": [
    "for i in words:\n",
    "    x=wordnet.synsets(i,pos=wordnet.VERB)\n",
    "    print(f'Verbs of {i} are :{x}\\n')"
   ]
  },
  {
   "cell_type": "markdown",
   "id": "7747f735",
   "metadata": {},
   "source": [
    "### Extract the adjectives of the word from the synonyms list."
   ]
  },
  {
   "cell_type": "code",
   "execution_count": 22,
   "id": "5de28034",
   "metadata": {},
   "outputs": [
    {
     "name": "stdout",
     "output_type": "stream",
     "text": [
      "Adjectives of bear are :[]\n",
      "\n",
      "Adjectives of set are :[Synset('fit.s.02'), Synset('fixed.s.02'), Synset('located.s.01'), Synset('laid.s.01'), Synset('set.s.05'), Synset('determined.s.04'), Synset('hardened.s.05')]\n",
      "\n",
      "Adjectives of square are :[Synset('square.a.01'), Synset('straight.a.06'), Synset('hearty.s.02'), Synset('square.s.04'), Synset('square.s.05'), Synset('square.s.06')]\n",
      "\n",
      "Adjectives of lead are :[]\n",
      "\n",
      "Adjectives of burn are :[]\n",
      "\n"
     ]
    }
   ],
   "source": [
    "for i in words:\n",
    "    x=wordnet.synsets(i,pos=wordnet.ADJ)\n",
    "    print(f'Adjectives of {i} are :{x}\\n')"
   ]
  },
  {
   "cell_type": "markdown",
   "id": "2e373d15",
   "metadata": {},
   "source": [
    "### Extract the adverbs of the word from the synonyms list."
   ]
  },
  {
   "cell_type": "code",
   "execution_count": 23,
   "id": "973132f6",
   "metadata": {},
   "outputs": [
    {
     "name": "stdout",
     "output_type": "stream",
     "text": [
      "Adverbs of bear are :[]\n",
      "\n",
      "Adverbs of set are :[]\n",
      "\n",
      "Adverbs of square are :[Synset('squarely.r.02'), Synset('squarely.r.04'), Synset('squarely.r.03')]\n",
      "\n",
      "Adverbs of lead are :[]\n",
      "\n",
      "Adverbs of burn are :[]\n",
      "\n"
     ]
    }
   ],
   "source": [
    "for i in words:\n",
    "    x=wordnet.synsets(i,pos=wordnet.ADV)\n",
    "    print(f'Adverbs of {i} are :{x}\\n')"
   ]
  },
  {
   "cell_type": "markdown",
   "id": "fb66c5b2",
   "metadata": {},
   "source": [
    "### Extract the definition of the word."
   ]
  },
  {
   "cell_type": "code",
   "execution_count": 24,
   "id": "a9f92e0e",
   "metadata": {},
   "outputs": [
    {
     "name": "stdout",
     "output_type": "stream",
     "text": [
      "Meaning of bear is :massive plantigrade carnivorous or omnivorous mammals with long shaggy coats and strong claws\n",
      "\n",
      "Meaning of bear is :an investor with a pessimistic market outlook; an investor who expects prices to fall and so sells now in order to buy later at a lower price\n",
      "\n",
      "Meaning of bear is :have\n",
      "\n",
      "Meaning of bear is :cause to be born\n",
      "\n",
      "Meaning of bear is :put up with something or somebody unpleasant\n",
      "\n",
      "Meaning of bear is :move while holding up or supporting\n",
      "\n",
      "Meaning of bear is :bring forth,\n",
      "\n",
      "Meaning of bear is :take on as one's own the expenses or debts of another person\n",
      "\n",
      "Meaning of bear is :contain or hold; have within\n",
      "\n",
      "Meaning of bear is :bring in\n",
      "\n",
      "Meaning of bear is :have on one's person\n",
      "\n",
      "Meaning of bear is :behave in a certain manner\n",
      "\n",
      "Meaning of bear is :have rightfully; of rights, titles, and offices\n",
      "\n",
      "Meaning of bear is :support or hold in a certain manner\n",
      "\n",
      "Meaning of set is :a group of things of the same kind that belong together and are so used\n",
      "\n",
      "Meaning of set is :(mathematics) an abstract collection of numbers or symbols\n",
      "\n",
      "Meaning of set is :several exercises intended to be done in series\n",
      "\n",
      "Meaning of set is :representation consisting of the scenery and other properties used to identify the location of a dramatic production\n",
      "\n",
      "Meaning of set is :an unofficial association of people or groups\n",
      "\n",
      "Meaning of set is :a relatively permanent inclination to react in a particular way\n",
      "\n",
      "Meaning of set is :the act of putting something in position\n",
      "\n",
      "Meaning of set is :a unit of play in tennis or squash\n",
      "\n",
      "Meaning of set is :the process of becoming hard or solid by cooling or drying or crystallization\n",
      "\n",
      "Meaning of set is :evil Egyptian god with the head of a beast that has high square ears and a long snout; brother and murderer of Osiris\n",
      "\n",
      "Meaning of set is :the descent of a heavenly body below the horizon\n",
      "\n",
      "Meaning of set is :(psychology) being temporarily ready to respond in a particular way\n",
      "\n",
      "Meaning of set is :any electronic equipment that receives or transmits radio or tv signals\n",
      "\n",
      "Meaning of set is :put into a certain place or abstract location\n",
      "\n",
      "Meaning of set is :fix conclusively or authoritatively\n",
      "\n",
      "Meaning of set is :decide upon or fix definitely\n",
      "\n",
      "Meaning of set is :establish as the highest level or best performance\n",
      "\n",
      "Meaning of set is :put into a certain state; cause to be in a certain state\n",
      "\n",
      "Meaning of set is :fix in a border\n",
      "\n",
      "Meaning of set is :make ready or suitable or equip in advance for a particular purpose or for some use, event, etc\n",
      "\n",
      "Meaning of set is :set to a certain position or cause to operate correctly\n",
      "\n",
      "Meaning of set is :locate\n",
      "\n",
      "Meaning of set is :disappear beyond the horizon\n",
      "\n",
      "Meaning of set is :adapt for performance in a different way\n",
      "\n",
      "Meaning of set is :put or set (seeds, seedlings, or plants) into the ground\n",
      "\n",
      "Meaning of set is :apply or start\n",
      "\n",
      "Meaning of set is :become gelatinous\n",
      "\n",
      "Meaning of set is :set in type\n",
      "\n",
      "Meaning of set is :put into a position that will restore a normal state\n",
      "\n",
      "Meaning of set is :insert (a nail or screw below the surface, as into a countersink)\n",
      "\n",
      "Meaning of set is :give a fine, sharp edge to a knife or razor\n",
      "\n",
      "Meaning of set is :urge to attack someone\n",
      "\n",
      "Meaning of set is :estimate\n",
      "\n",
      "Meaning of set is :equip with sails or masts\n",
      "\n",
      "Meaning of set is :get ready for a particular purpose or event\n",
      "\n",
      "Meaning of set is :alter or regulate so as to achieve accuracy or conform to a standard\n",
      "\n",
      "Meaning of set is :bear fruit\n",
      "\n",
      "Meaning of set is :arrange attractively\n",
      "\n",
      "Meaning of set is :(usually followed by `to' or `for') on the point of or strongly disposed\n",
      "\n",
      "Meaning of set is :fixed and unmoving; ; - Connor Cruise O'Brien\n",
      "\n",
      "Meaning of set is :situated in a particular spot or position\n",
      "\n",
      "Meaning of set is :set down according to a plan:\n",
      "\n",
      "Meaning of set is :being below the horizon\n",
      "\n",
      "Meaning of set is :determined or decided upon as by an authority\n",
      "\n",
      "Meaning of square is :(geometry) a plane rectangle with four equal sides and four right angles; a four-sided regular polygon\n",
      "\n",
      "Meaning of square is :the product of two equal terms\n",
      "\n",
      "Meaning of square is :an open area at the meeting of two or more streets\n",
      "\n",
      "Meaning of square is :something approximating the shape of a square\n",
      "\n",
      "Meaning of square is :someone who doesn't understand what is going on\n",
      "\n",
      "Meaning of square is :a formal and conservative person with old-fashioned views\n",
      "\n",
      "Meaning of square is :any artifact having a shape similar to a plane geometric figure with four equal sides and four right angles\n",
      "\n",
      "Meaning of square is :a hand tool consisting of two straight arms at right angles; used to construct or test right angles\n",
      "\n",
      "Meaning of square is :make square\n",
      "\n",
      "Meaning of square is :raise to the second power\n",
      "\n",
      "Meaning of square is :cause to match, as of ideas or acts\n",
      "\n",
      "Meaning of square is :position so as to be square\n",
      "\n",
      "Meaning of square is :be compatible with\n",
      "\n",
      "Meaning of square is :pay someone and settle a debt\n",
      "\n",
      "Meaning of square is :turn the paddle; in canoeing\n",
      "\n",
      "Meaning of square is :turn the oar, while rowing\n",
      "\n",
      "Meaning of square is :having four equal sides and four right angles or forming a right angle\n",
      "\n",
      "Meaning of square is :characterized by honesty and fairness\n",
      "\n",
      "Meaning of square is :providing abundant nourishment\n",
      "\n",
      "Meaning of square is :leaving no balance\n",
      "\n",
      "Meaning of square is :without evasion or compromise\n",
      "\n",
      "Meaning of square is :rigidly conventional or old-fashioned\n",
      "\n",
      "Meaning of square is :in a straight direct way\n",
      "\n",
      "Meaning of square is :in a square shape\n",
      "\n",
      "Meaning of lead is :an advantage held by a competitor in a race\n",
      "\n",
      "Meaning of lead is :a soft heavy toxic malleable metallic element; bluish white when freshly cut but tarnishes readily to dull grey\n",
      "\n",
      "Meaning of lead is :evidence pointing to a possible solution\n",
      "\n",
      "Meaning of lead is :a position of leadership (especially in the phrase `take the lead')\n",
      "\n",
      "Meaning of lead is :the angle between the direction a gun is aimed and the position of a moving target (correcting for the flight time of the missile)\n",
      "\n",
      "Meaning of lead is :the introductory section of a story\n",
      "\n",
      "Meaning of lead is :(sports) the score by which a team or individual is winning\n",
      "\n",
      "Meaning of lead is :an actor who plays a principal role\n",
      "\n",
      "Meaning of lead is :(baseball) the position taken by a base runner preparing to advance to the next base\n",
      "\n",
      "Meaning of lead is :an indication of potential opportunity\n",
      "\n",
      "Meaning of lead is :a news story of major importance\n",
      "\n",
      "Meaning of lead is :the timing of ignition relative to the position of the piston in an internal-combustion engine\n",
      "\n",
      "Meaning of lead is :restraint consisting of a rope (or light chain) used to restrain an animal\n",
      "\n",
      "Meaning of lead is :thin strip of metal used to separate lines of type in printing\n",
      "\n",
      "Meaning of lead is :mixture of graphite with clay in different degrees of hardness; the marking substance in a pencil\n",
      "\n",
      "Meaning of lead is :a jumper that consists of a short piece of wire\n",
      "\n",
      "Meaning of lead is :the playing of a card to start a trick in bridge\n",
      "\n",
      "Meaning of lead is :take somebody somewhere\n",
      "\n",
      "Meaning of lead is :have as a result or residue\n",
      "\n",
      "Meaning of lead is :tend to or result in\n",
      "\n",
      "Meaning of lead is :travel in front of; go in advance of others\n",
      "\n",
      "Meaning of lead is :cause to undertake a certain action\n",
      "\n",
      "Meaning of lead is :stretch out over a distance, space, time, or scope; run or extend between two points or beyond a certain point\n",
      "\n",
      "Meaning of lead is :be in charge of\n",
      "\n",
      "Meaning of lead is :be ahead of others; be the first\n",
      "\n",
      "Meaning of lead is :be conducive to\n",
      "\n",
      "Meaning of lead is :lead, as in the performance of a composition\n",
      "\n",
      "Meaning of lead is :lead, extend, or afford access\n",
      "\n",
      "Meaning of lead is :move ahead (of others) in time or space\n",
      "\n",
      "Meaning of lead is :cause something to pass or lead somewhere\n",
      "\n",
      "Meaning of burn is :pain that feels hot as if it were on fire\n",
      "\n",
      "Meaning of burn is :a browning of the skin resulting from exposure to the rays of the sun\n",
      "\n",
      "Meaning of burn is :an injury caused by exposure to heat or chemicals or radiation\n",
      "\n",
      "Meaning of burn is :a place or area that has been burned (especially on a person's body)\n",
      "\n",
      "Meaning of burn is :damage inflicted by fire\n",
      "\n",
      "Meaning of burn is :destroy by fire\n",
      "\n",
      "Meaning of burn is :shine intensely, as if with heat\n",
      "\n",
      "Meaning of burn is :undergo combustion\n",
      "\n",
      "Meaning of burn is :cause a sharp or stinging pain or discomfort\n",
      "\n",
      "Meaning of burn is :cause to burn or combust\n",
      "\n",
      "Meaning of burn is :feel strong emotion, especially anger or passion\n",
      "\n",
      "Meaning of burn is :cause to undergo combustion\n",
      "\n",
      "Meaning of burn is :burn at the stake\n",
      "\n",
      "Meaning of burn is :spend (significant amounts of money)\n",
      "\n",
      "Meaning of burn is :feel hot or painful\n",
      "\n",
      "Meaning of burn is :burn, sear, or freeze (tissue) using a hot iron or electric current or a caustic agent\n",
      "\n",
      "Meaning of burn is :get a sunburn by overexposure to the sun\n",
      "\n",
      "Meaning of burn is :create by duplicating data\n",
      "\n",
      "Meaning of burn is :use up (energy)\n",
      "\n"
     ]
    }
   ],
   "source": [
    "for i in words:\n",
    "    x=wordnet.synsets(i)\n",
    "    for k in range (len(x)-1):\n",
    "        print(f'Meaning of {i} is :{x[k].definition()}\\n')"
   ]
  },
  {
   "cell_type": "markdown",
   "id": "9a1a067f",
   "metadata": {},
   "source": [
    "### Find the hypernyms of each word."
   ]
  },
  {
   "cell_type": "code",
   "execution_count": 27,
   "id": "0328508a",
   "metadata": {},
   "outputs": [
    {
     "name": "stdout",
     "output_type": "stream",
     "text": [
      "Hypernyms of bear are :[Synset('carnivore.n.01')]\n",
      "\n",
      "Hypernyms of set are :[Synset('collection.n.01')]\n",
      "\n",
      "Hypernyms of square are :[Synset('rectangle.n.01'), Synset('regular_polygon.n.01')]\n",
      "\n",
      "Hypernyms of lead are :[Synset('advantage.n.01')]\n",
      "\n",
      "Hypernyms of burn are :[Synset('pain.n.01')]\n",
      "\n"
     ]
    }
   ],
   "source": [
    "for i in words:\n",
    "    x=wordnet.synsets(i)\n",
    "    print(f'Hypernyms of {i} are :{x[0].hypernyms()}\\n')"
   ]
  },
  {
   "cell_type": "markdown",
   "id": "9e8a072d",
   "metadata": {},
   "source": [
    "### Find the hyponyms of each word."
   ]
  },
  {
   "cell_type": "code",
   "execution_count": 28,
   "id": "917205d2",
   "metadata": {},
   "outputs": [
    {
     "name": "stdout",
     "output_type": "stream",
     "text": [
      "Hyponyms of bear are :[Synset('american_black_bear.n.01'), Synset('asiatic_black_bear.n.01'), Synset('bear_cub.n.01'), Synset('brown_bear.n.01'), Synset('bruin.n.01'), Synset('ice_bear.n.01'), Synset('sloth_bear.n.01')]\n",
      "\n",
      "Hyponyms of set are :[Synset('bracket.n.01'), Synset('chess_set.n.01'), Synset('choir.n.02'), Synset('conjugation.n.03'), Synset('core.n.01'), Synset('dentition.n.02'), Synset('field.n.12'), Synset('field.n.13'), Synset('field.n.15'), Synset('intersection.n.04'), Synset('manicure_set.n.01'), Synset('octet.n.03'), Synset('pair.n.01'), Synset('portfolio.n.02'), Synset('quartet.n.03'), Synset('quintet.n.04'), Synset('score.n.04'), Synset('septet.n.03'), Synset('sextet.n.04'), Synset('singleton.n.02'), Synset('suite.n.04'), Synset('synset.n.01'), Synset('threescore.n.01'), Synset('trio.n.04'), Synset('union.n.08')]\n",
      "\n",
      "Hyponyms of square are :[Synset('quadrate.n.02')]\n",
      "\n",
      "Hyponyms of lead are :[]\n",
      "\n",
      "Hyponyms of burn are :[]\n",
      "\n"
     ]
    }
   ],
   "source": [
    "for i in words:\n",
    "    x=wordnet.synsets(i)\n",
    "    print(f'Hyponyms of {i} are :{x[0].hyponyms()}\\n')"
   ]
  },
  {
   "cell_type": "markdown",
   "id": "9d27ae8d",
   "metadata": {},
   "source": [
    "### Find the similarities of any two hyponyms of a word."
   ]
  },
  {
   "cell_type": "code",
   "execution_count": 31,
   "id": "72056a10",
   "metadata": {},
   "outputs": [
    {
     "name": "stdout",
     "output_type": "stream",
     "text": [
      "Similarity of Synset('set.n.01') and Synset('set.n.02') =0.2\n",
      "Similarity of Synset('set.n.02') and Synset('set.n.03') =0.09090909090909091\n",
      "Similarity of Synset('set.n.03') and Synset('stage_set.n.01') =0.05555555555555555\n",
      "Similarity of Synset('stage_set.n.01') and Synset('set.n.05') =0.08333333333333333\n",
      "Similarity of Synset('set.n.05') and Synset('bent.n.01') =0.1111111111111111\n",
      "Similarity of Synset('bent.n.01') and Synset('set.n.07') =0.1\n",
      "Similarity of Synset('set.n.07') and Synset('set.n.08') =0.1\n",
      "Similarity of Synset('set.n.08') and Synset('hardening.n.02') =0.1111111111111111\n",
      "Similarity of Synset('hardening.n.02') and Synset('set.n.10') =0.07142857142857142\n",
      "Similarity of Synset('set.n.10') and Synset('set.n.11') =0.07142857142857142\n",
      "Similarity of Synset('set.n.11') and Synset('set.n.12') =0.07142857142857142\n",
      "Similarity of Synset('set.n.12') and Synset('set.n.13') =0.0625\n",
      "Similarity of Synset('set.n.13') and Synset('put.v.01') =0.08333333333333333\n",
      "Similarity of Synset('put.v.01') and Synset('determine.v.03') =0.25\n",
      "Similarity of Synset('determine.v.03') and Synset('specify.v.02') =0.2\n",
      "Similarity of Synset('specify.v.02') and Synset('set.v.04') =0.14285714285714285\n",
      "Similarity of Synset('set.v.04') and Synset('set.v.05') =0.16666666666666666\n",
      "Similarity of Synset('set.v.05') and Synset('set.v.06') =0.14285714285714285\n",
      "Similarity of Synset('set.v.06') and Synset('fix.v.12') =0.14285714285714285\n",
      "Similarity of Synset('fix.v.12') and Synset('set.v.08') =0.25\n",
      "Similarity of Synset('set.v.08') and Synset('set.v.09') =0.125\n",
      "Similarity of Synset('set.v.09') and Synset('set.v.10') =0.125\n",
      "Similarity of Synset('set.v.10') and Synset('arrange.v.06') =0.14285714285714285\n",
      "Similarity of Synset('arrange.v.06') and Synset('plant.v.01') =0.14285714285714285\n",
      "Similarity of Synset('plant.v.01') and Synset('set.v.13') =0.14285714285714285\n",
      "Similarity of Synset('set.v.13') and Synset('jell.v.01') =0.125\n",
      "Similarity of Synset('jell.v.01') and Synset('typeset.v.01') =0.09090909090909091\n",
      "Similarity of Synset('typeset.v.01') and Synset('set.v.16') =0.1\n",
      "Similarity of Synset('set.v.16') and Synset('set.v.17') =0.1\n",
      "Similarity of Synset('set.v.17') and Synset('set.v.18') =0.09090909090909091\n",
      "Similarity of Synset('set.v.18') and Synset('sic.v.01') =0.14285714285714285\n",
      "Similarity of Synset('sic.v.01') and Synset('place.v.11') =0.125\n",
      "Similarity of Synset('place.v.11') and Synset('rig.v.04') =0.09090909090909091\n",
      "Similarity of Synset('rig.v.04') and Synset('set_up.v.04') =0.1111111111111111\n",
      "Similarity of Synset('set_up.v.04') and Synset('adjust.v.01') =0.25\n",
      "Similarity of Synset('adjust.v.01') and Synset('fructify.v.03') =0.16666666666666666\n",
      "Similarity of Synset('fructify.v.03') and Synset('dress.v.16') =0.1111111111111111\n",
      "Similarity of Synset('dress.v.16') and Synset('fit.s.02') =0.14285714285714285\n",
      "Similarity of Synset('fit.s.02') and Synset('fixed.s.02') =0.3333333333333333\n",
      "Similarity of Synset('fixed.s.02') and Synset('located.s.01') =0.3333333333333333\n",
      "Similarity of Synset('located.s.01') and Synset('laid.s.01') =0.3333333333333333\n",
      "Similarity of Synset('laid.s.01') and Synset('set.s.05') =0.3333333333333333\n",
      "Similarity of Synset('set.s.05') and Synset('determined.s.04') =0.3333333333333333\n",
      "Similarity of Synset('determined.s.04') and Synset('hardened.s.05') =0.3333333333333333\n"
     ]
    }
   ],
   "source": [
    "x=wordnet.synsets('set')\n",
    "for i in range (len(x)-1):\n",
    "    hyps=x[i].hyponyms\n",
    "    print(f'Similarity of {x[i]} and {x[i+1]} ={x[i].path_similarity(x[i+1])}')"
   ]
  },
  {
   "cell_type": "code",
   "execution_count": null,
   "id": "c9e21951",
   "metadata": {},
   "outputs": [],
   "source": []
  }
 ],
 "metadata": {
  "kernelspec": {
   "display_name": "Python 3 (ipykernel)",
   "language": "python",
   "name": "python3"
  },
  "language_info": {
   "codemirror_mode": {
    "name": "ipython",
    "version": 3
   },
   "file_extension": ".py",
   "mimetype": "text/x-python",
   "name": "python",
   "nbconvert_exporter": "python",
   "pygments_lexer": "ipython3",
   "version": "3.10.9"
  }
 },
 "nbformat": 4,
 "nbformat_minor": 5
}
